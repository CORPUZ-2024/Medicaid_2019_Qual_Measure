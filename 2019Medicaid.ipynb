{
 "cells": [
  {
   "cell_type": "code",
   "execution_count": 69,
   "metadata": {},
   "outputs": [],
   "source": [
    "import pandas as pd\n",
    "import numpy as np\n",
    "import tkinter as tk\n",
    "import matplotlib.pyplot as plt\n",
    "import matplotlib as mpl\n",
    "from tkinter import filedialog\n",
    "from pandas import DataFrame\n",
    "import seaborn as sns"
   ]
  },
  {
   "cell_type": "code",
   "execution_count": 50,
   "metadata": {},
   "outputs": [],
   "source": [
    "#pip install matplotlib --force-reinstall --user"
   ]
  },
  {
   "cell_type": "code",
   "execution_count": 51,
   "metadata": {},
   "outputs": [],
   "source": [
    "##pip install pathlib"
   ]
  },
  {
   "cell_type": "markdown",
   "metadata": {},
   "source": [
    "# Data Introduction \n",
    "The dataset was sourced from Medicaid.gov and it contains the performance rates on frequently reported health care quality measures in the CMS Medicaid/CHIP Child and Adult Core Sets, for FFY 2019 reporting.\n",
    "\n",
    "This dataset has **3,096 entries** and **19 columns or features**. Other than the 'Notes' column which most likely is an optionl field for submittors, there are no misisng values in this dataset. However, some states can have more entries in this dataset depending on the applicable programs for each state. \n",
    "\n"
   ]
  },
  {
   "cell_type": "markdown",
   "metadata": {},
   "source": [
    "## Features and Unique Values\n"
   ]
  },
  {
   "cell_type": "code",
   "execution_count": 70,
   "metadata": {
    "scrolled": true
   },
   "outputs": [
    {
     "data": {
      "text/html": [
       "<div>\n",
       "<style scoped>\n",
       "    .dataframe tbody tr th:only-of-type {\n",
       "        vertical-align: middle;\n",
       "    }\n",
       "\n",
       "    .dataframe tbody tr th {\n",
       "        vertical-align: top;\n",
       "    }\n",
       "\n",
       "    .dataframe thead th {\n",
       "        text-align: right;\n",
       "    }\n",
       "</style>\n",
       "<table border=\"1\" class=\"dataframe\">\n",
       "  <thead>\n",
       "    <tr style=\"text-align: right;\">\n",
       "      <th></th>\n",
       "      <th>State</th>\n",
       "      <th>Domain</th>\n",
       "      <th>Reporting Program</th>\n",
       "      <th>Measure Name</th>\n",
       "      <th>Measure Abbreviation</th>\n",
       "      <th>Measure Type</th>\n",
       "      <th>Rate Definition</th>\n",
       "      <th>FFY</th>\n",
       "      <th>Population</th>\n",
       "      <th>Methodology</th>\n",
       "      <th>State Rate</th>\n",
       "      <th>Number of States Reporting</th>\n",
       "      <th>Median</th>\n",
       "      <th>Bottom Quartile</th>\n",
       "      <th>Top Quartile</th>\n",
       "      <th>Notes</th>\n",
       "      <th>Source</th>\n",
       "      <th>State Specific Comments</th>\n",
       "      <th>Rate Used in Calculating State Mean and Median</th>\n",
       "    </tr>\n",
       "  </thead>\n",
       "  <tbody>\n",
       "    <tr>\n",
       "      <th>0</th>\n",
       "      <td>Wyoming</td>\n",
       "      <td>Behavioral Health Care</td>\n",
       "      <td>Adult Core Set</td>\n",
       "      <td>Follow-Up After Hospitalization for Mental Ill...</td>\n",
       "      <td>FUH-AD</td>\n",
       "      <td>Higher rates are better for this measure</td>\n",
       "      <td>Percentage of Hospitalizations for Mental Illn...</td>\n",
       "      <td>2019</td>\n",
       "      <td>Medicaid &amp; Dual Eligibles</td>\n",
       "      <td>Administrative</td>\n",
       "      <td>45.4</td>\n",
       "      <td>42</td>\n",
       "      <td>54.8</td>\n",
       "      <td>41.7</td>\n",
       "      <td>63.0</td>\n",
       "      <td>NaN</td>\n",
       "      <td>Mathematica analysis of MACPro reports for the...</td>\n",
       "      <td>Rates include FFS population.</td>\n",
       "      <td>Yes</td>\n",
       "    </tr>\n",
       "    <tr>\n",
       "      <th>1</th>\n",
       "      <td>Alabama</td>\n",
       "      <td>Behavioral Health Care</td>\n",
       "      <td>Child Core Set</td>\n",
       "      <td>Follow-Up After Hospitalization for Mental Ill...</td>\n",
       "      <td>FUH-CH</td>\n",
       "      <td>Higher rates are better for this measure</td>\n",
       "      <td>Percentage of Hospitalizations for Mental Illn...</td>\n",
       "      <td>2019</td>\n",
       "      <td>Medicaid only</td>\n",
       "      <td>Administrative</td>\n",
       "      <td>41.0</td>\n",
       "      <td>44</td>\n",
       "      <td>41.9</td>\n",
       "      <td>35.0</td>\n",
       "      <td>58.8</td>\n",
       "      <td>NaN</td>\n",
       "      <td>Mathematica analysis of MACPro reports for the...</td>\n",
       "      <td>Medicaid rates include FFS and PCCM populations.</td>\n",
       "      <td>Yes</td>\n",
       "    </tr>\n",
       "    <tr>\n",
       "      <th>2</th>\n",
       "      <td>Alabama</td>\n",
       "      <td>Behavioral Health Care</td>\n",
       "      <td>Child Core Set</td>\n",
       "      <td>Follow-Up After Hospitalization for Mental Ill...</td>\n",
       "      <td>FUH-CH</td>\n",
       "      <td>Higher rates are better for this measure</td>\n",
       "      <td>Percentage of Hospitalizations for Mental Illn...</td>\n",
       "      <td>2019</td>\n",
       "      <td>Medicaid only</td>\n",
       "      <td>Administrative</td>\n",
       "      <td>65.8</td>\n",
       "      <td>44</td>\n",
       "      <td>66.3</td>\n",
       "      <td>58.6</td>\n",
       "      <td>79.5</td>\n",
       "      <td>NaN</td>\n",
       "      <td>Mathematica analysis of MACPro reports for the...</td>\n",
       "      <td>Medicaid rates include FFS and PCCM populations.</td>\n",
       "      <td>Yes</td>\n",
       "    </tr>\n",
       "    <tr>\n",
       "      <th>3</th>\n",
       "      <td>Wyoming</td>\n",
       "      <td>Behavioral Health Care</td>\n",
       "      <td>Adult Core Set</td>\n",
       "      <td>Use of Opioids at High Dosage in Persons Witho...</td>\n",
       "      <td>OHD-AD</td>\n",
       "      <td>Lower rates are better for this measure</td>\n",
       "      <td>Percentage of Adults Without Cancer with Two o...</td>\n",
       "      <td>2019</td>\n",
       "      <td>Medicaid &amp; Dual Eligibles</td>\n",
       "      <td>Administrative</td>\n",
       "      <td>21.7</td>\n",
       "      <td>26</td>\n",
       "      <td>6.4</td>\n",
       "      <td>10.7</td>\n",
       "      <td>3.4</td>\n",
       "      <td>NaN</td>\n",
       "      <td>Mathematica analysis of MACPro reports for the...</td>\n",
       "      <td>Rate includes FFS population.</td>\n",
       "      <td>Yes</td>\n",
       "    </tr>\n",
       "    <tr>\n",
       "      <th>4</th>\n",
       "      <td>Wyoming</td>\n",
       "      <td>Care of Acute and Chronic Conditions</td>\n",
       "      <td>Adult Core Set</td>\n",
       "      <td>PQI 01: Diabetes Short-Term Complications Admi...</td>\n",
       "      <td>PQI01-AD</td>\n",
       "      <td>Lower rates are better for this measure</td>\n",
       "      <td>Inpatient Hospital Admissions for Diabetes Sho...</td>\n",
       "      <td>2019</td>\n",
       "      <td>Medicaid &amp; Dual Eligibles</td>\n",
       "      <td>Administrative</td>\n",
       "      <td>16.4</td>\n",
       "      <td>30</td>\n",
       "      <td>19.1</td>\n",
       "      <td>24.4</td>\n",
       "      <td>15.1</td>\n",
       "      <td>NaN</td>\n",
       "      <td>Mathematica analysis of MACPro reports for the...</td>\n",
       "      <td>Rate includes FFS population.</td>\n",
       "      <td>Yes</td>\n",
       "    </tr>\n",
       "    <tr>\n",
       "      <th>...</th>\n",
       "      <td>...</td>\n",
       "      <td>...</td>\n",
       "      <td>...</td>\n",
       "      <td>...</td>\n",
       "      <td>...</td>\n",
       "      <td>...</td>\n",
       "      <td>...</td>\n",
       "      <td>...</td>\n",
       "      <td>...</td>\n",
       "      <td>...</td>\n",
       "      <td>...</td>\n",
       "      <td>...</td>\n",
       "      <td>...</td>\n",
       "      <td>...</td>\n",
       "      <td>...</td>\n",
       "      <td>...</td>\n",
       "      <td>...</td>\n",
       "      <td>...</td>\n",
       "      <td>...</td>\n",
       "    </tr>\n",
       "    <tr>\n",
       "      <th>3091</th>\n",
       "      <td>Wisconsin</td>\n",
       "      <td>Primary Care Access and Preventive Care</td>\n",
       "      <td>Adult Core Set</td>\n",
       "      <td>Adult Body Mass Index Assessment: Ages 18 to 74</td>\n",
       "      <td>ABA-AD</td>\n",
       "      <td>Higher rates are better for this measure</td>\n",
       "      <td>Percentage who had an Outpatient Visit with a ...</td>\n",
       "      <td>2019</td>\n",
       "      <td>Medicaid</td>\n",
       "      <td>Administrative &amp; Hybrid</td>\n",
       "      <td>72.3</td>\n",
       "      <td>36</td>\n",
       "      <td>83.5</td>\n",
       "      <td>53.7</td>\n",
       "      <td>90.4</td>\n",
       "      <td>NaN</td>\n",
       "      <td>Mathematica analysis of MACPro reports for the...</td>\n",
       "      <td>Rate includes managed care population (15 MCOs...</td>\n",
       "      <td>Yes</td>\n",
       "    </tr>\n",
       "    <tr>\n",
       "      <th>3092</th>\n",
       "      <td>Wisconsin</td>\n",
       "      <td>Primary Care Access and Preventive Care</td>\n",
       "      <td>Adult Core Set</td>\n",
       "      <td>Breast Cancer Screening: Ages 50 to 74</td>\n",
       "      <td>BCS-AD</td>\n",
       "      <td>Higher rates are better for this measure</td>\n",
       "      <td>Percentage of Women who had a Mammogram to Scr...</td>\n",
       "      <td>2019</td>\n",
       "      <td>Medicaid &amp; CHIP</td>\n",
       "      <td>Administrative</td>\n",
       "      <td>64.7</td>\n",
       "      <td>43</td>\n",
       "      <td>53.4</td>\n",
       "      <td>49.1</td>\n",
       "      <td>59.1</td>\n",
       "      <td>NaN</td>\n",
       "      <td>Mathematica analysis of MACPro reports for the...</td>\n",
       "      <td>Rate includes managed care population (15 MCOs...</td>\n",
       "      <td>Yes</td>\n",
       "    </tr>\n",
       "    <tr>\n",
       "      <th>3093</th>\n",
       "      <td>Wisconsin</td>\n",
       "      <td>Primary Care Access and Preventive Care</td>\n",
       "      <td>Adult Core Set</td>\n",
       "      <td>Cervical Cancer Screening: Ages 21 to 64</td>\n",
       "      <td>CCS-AD</td>\n",
       "      <td>Higher rates are better for this measure</td>\n",
       "      <td>Percentage of Women Screened for Cervical Canc...</td>\n",
       "      <td>2019</td>\n",
       "      <td>Medicaid</td>\n",
       "      <td>Administrative &amp; Hybrid</td>\n",
       "      <td>62.3</td>\n",
       "      <td>43</td>\n",
       "      <td>55.1</td>\n",
       "      <td>48.4</td>\n",
       "      <td>61.3</td>\n",
       "      <td>NaN</td>\n",
       "      <td>Mathematica analysis of MACPro reports for the...</td>\n",
       "      <td>Rate includes managed care population (13 MCOs...</td>\n",
       "      <td>Yes</td>\n",
       "    </tr>\n",
       "    <tr>\n",
       "      <th>3094</th>\n",
       "      <td>Wisconsin</td>\n",
       "      <td>Primary Care Access and Preventive Care</td>\n",
       "      <td>Adult Core Set</td>\n",
       "      <td>Chlamydia Screening in Women Ages 21 to 24</td>\n",
       "      <td>CHL-AD</td>\n",
       "      <td>Higher rates are better for this measure</td>\n",
       "      <td>Percentage of Sexually Active Women Screened f...</td>\n",
       "      <td>2019</td>\n",
       "      <td>Medicaid</td>\n",
       "      <td>Administrative</td>\n",
       "      <td>62.5</td>\n",
       "      <td>44</td>\n",
       "      <td>60.2</td>\n",
       "      <td>55.1</td>\n",
       "      <td>65.2</td>\n",
       "      <td>NaN</td>\n",
       "      <td>Mathematica analysis of MACPro reports for the...</td>\n",
       "      <td>Rate includes managed care population (13 MCOs...</td>\n",
       "      <td>Yes</td>\n",
       "    </tr>\n",
       "    <tr>\n",
       "      <th>3095</th>\n",
       "      <td>Wyoming</td>\n",
       "      <td>Behavioral Health Care</td>\n",
       "      <td>Adult Core Set</td>\n",
       "      <td>Follow-Up After Hospitalization for Mental Ill...</td>\n",
       "      <td>FUH-AD</td>\n",
       "      <td>Higher rates are better for this measure</td>\n",
       "      <td>Percentage of Hospitalizations for Mental Illn...</td>\n",
       "      <td>2019</td>\n",
       "      <td>Medicaid &amp; Dual Eligibles</td>\n",
       "      <td>Administrative</td>\n",
       "      <td>28.2</td>\n",
       "      <td>42</td>\n",
       "      <td>32.3</td>\n",
       "      <td>24.3</td>\n",
       "      <td>46.7</td>\n",
       "      <td>NaN</td>\n",
       "      <td>Mathematica analysis of MACPro reports for the...</td>\n",
       "      <td>Rates include FFS population.</td>\n",
       "      <td>Yes</td>\n",
       "    </tr>\n",
       "  </tbody>\n",
       "</table>\n",
       "<p>3096 rows × 19 columns</p>\n",
       "</div>"
      ],
      "text/plain": [
       "          State                                   Domain Reporting Program  \\\n",
       "0       Wyoming                   Behavioral Health Care    Adult Core Set   \n",
       "1       Alabama                   Behavioral Health Care    Child Core Set   \n",
       "2       Alabama                   Behavioral Health Care    Child Core Set   \n",
       "3       Wyoming                   Behavioral Health Care    Adult Core Set   \n",
       "4       Wyoming     Care of Acute and Chronic Conditions    Adult Core Set   \n",
       "...         ...                                      ...               ...   \n",
       "3091  Wisconsin  Primary Care Access and Preventive Care    Adult Core Set   \n",
       "3092  Wisconsin  Primary Care Access and Preventive Care    Adult Core Set   \n",
       "3093  Wisconsin  Primary Care Access and Preventive Care    Adult Core Set   \n",
       "3094  Wisconsin  Primary Care Access and Preventive Care    Adult Core Set   \n",
       "3095    Wyoming                   Behavioral Health Care    Adult Core Set   \n",
       "\n",
       "                                           Measure Name Measure Abbreviation  \\\n",
       "0     Follow-Up After Hospitalization for Mental Ill...               FUH-AD   \n",
       "1     Follow-Up After Hospitalization for Mental Ill...               FUH-CH   \n",
       "2     Follow-Up After Hospitalization for Mental Ill...               FUH-CH   \n",
       "3     Use of Opioids at High Dosage in Persons Witho...               OHD-AD   \n",
       "4     PQI 01: Diabetes Short-Term Complications Admi...             PQI01-AD   \n",
       "...                                                 ...                  ...   \n",
       "3091    Adult Body Mass Index Assessment: Ages 18 to 74               ABA-AD   \n",
       "3092             Breast Cancer Screening: Ages 50 to 74               BCS-AD   \n",
       "3093           Cervical Cancer Screening: Ages 21 to 64               CCS-AD   \n",
       "3094         Chlamydia Screening in Women Ages 21 to 24               CHL-AD   \n",
       "3095  Follow-Up After Hospitalization for Mental Ill...               FUH-AD   \n",
       "\n",
       "                                  Measure Type  \\\n",
       "0     Higher rates are better for this measure   \n",
       "1     Higher rates are better for this measure   \n",
       "2     Higher rates are better for this measure   \n",
       "3      Lower rates are better for this measure   \n",
       "4      Lower rates are better for this measure   \n",
       "...                                        ...   \n",
       "3091  Higher rates are better for this measure   \n",
       "3092  Higher rates are better for this measure   \n",
       "3093  Higher rates are better for this measure   \n",
       "3094  Higher rates are better for this measure   \n",
       "3095  Higher rates are better for this measure   \n",
       "\n",
       "                                        Rate Definition   FFY  \\\n",
       "0     Percentage of Hospitalizations for Mental Illn...  2019   \n",
       "1     Percentage of Hospitalizations for Mental Illn...  2019   \n",
       "2     Percentage of Hospitalizations for Mental Illn...  2019   \n",
       "3     Percentage of Adults Without Cancer with Two o...  2019   \n",
       "4     Inpatient Hospital Admissions for Diabetes Sho...  2019   \n",
       "...                                                 ...   ...   \n",
       "3091  Percentage who had an Outpatient Visit with a ...  2019   \n",
       "3092  Percentage of Women who had a Mammogram to Scr...  2019   \n",
       "3093  Percentage of Women Screened for Cervical Canc...  2019   \n",
       "3094  Percentage of Sexually Active Women Screened f...  2019   \n",
       "3095  Percentage of Hospitalizations for Mental Illn...  2019   \n",
       "\n",
       "                     Population              Methodology State Rate  \\\n",
       "0     Medicaid & Dual Eligibles           Administrative       45.4   \n",
       "1                 Medicaid only           Administrative       41.0   \n",
       "2                 Medicaid only           Administrative       65.8   \n",
       "3     Medicaid & Dual Eligibles           Administrative       21.7   \n",
       "4     Medicaid & Dual Eligibles           Administrative       16.4   \n",
       "...                         ...                      ...        ...   \n",
       "3091                   Medicaid  Administrative & Hybrid       72.3   \n",
       "3092            Medicaid & CHIP           Administrative       64.7   \n",
       "3093                   Medicaid  Administrative & Hybrid       62.3   \n",
       "3094                   Medicaid           Administrative       62.5   \n",
       "3095  Medicaid & Dual Eligibles           Administrative       28.2   \n",
       "\n",
       "      Number of States Reporting  Median  Bottom Quartile  Top Quartile Notes  \\\n",
       "0                             42    54.8             41.7          63.0   NaN   \n",
       "1                             44    41.9             35.0          58.8   NaN   \n",
       "2                             44    66.3             58.6          79.5   NaN   \n",
       "3                             26     6.4             10.7           3.4   NaN   \n",
       "4                             30    19.1             24.4          15.1   NaN   \n",
       "...                          ...     ...              ...           ...   ...   \n",
       "3091                          36    83.5             53.7          90.4   NaN   \n",
       "3092                          43    53.4             49.1          59.1   NaN   \n",
       "3093                          43    55.1             48.4          61.3   NaN   \n",
       "3094                          44    60.2             55.1          65.2   NaN   \n",
       "3095                          42    32.3             24.3          46.7   NaN   \n",
       "\n",
       "                                                 Source  \\\n",
       "0     Mathematica analysis of MACPro reports for the...   \n",
       "1     Mathematica analysis of MACPro reports for the...   \n",
       "2     Mathematica analysis of MACPro reports for the...   \n",
       "3     Mathematica analysis of MACPro reports for the...   \n",
       "4     Mathematica analysis of MACPro reports for the...   \n",
       "...                                                 ...   \n",
       "3091  Mathematica analysis of MACPro reports for the...   \n",
       "3092  Mathematica analysis of MACPro reports for the...   \n",
       "3093  Mathematica analysis of MACPro reports for the...   \n",
       "3094  Mathematica analysis of MACPro reports for the...   \n",
       "3095  Mathematica analysis of MACPro reports for the...   \n",
       "\n",
       "                                State Specific Comments  \\\n",
       "0                         Rates include FFS population.   \n",
       "1      Medicaid rates include FFS and PCCM populations.   \n",
       "2      Medicaid rates include FFS and PCCM populations.   \n",
       "3                         Rate includes FFS population.   \n",
       "4                         Rate includes FFS population.   \n",
       "...                                                 ...   \n",
       "3091  Rate includes managed care population (15 MCOs...   \n",
       "3092  Rate includes managed care population (15 MCOs...   \n",
       "3093  Rate includes managed care population (13 MCOs...   \n",
       "3094  Rate includes managed care population (13 MCOs...   \n",
       "3095                      Rates include FFS population.   \n",
       "\n",
       "     Rate Used in Calculating State Mean and Median  \n",
       "0                                               Yes  \n",
       "1                                               Yes  \n",
       "2                                               Yes  \n",
       "3                                               Yes  \n",
       "4                                               Yes  \n",
       "...                                             ...  \n",
       "3091                                            Yes  \n",
       "3092                                            Yes  \n",
       "3093                                            Yes  \n",
       "3094                                            Yes  \n",
       "3095                                            Yes  \n",
       "\n",
       "[3096 rows x 19 columns]"
      ]
     },
     "execution_count": 70,
     "metadata": {},
     "output_type": "execute_result"
    }
   ],
   "source": [
    "medicaid_file = \"C:/Users/Nicole/Desktop/2019_Child_and_Adult_Health_Care_Quality_Measures_Quality.csv\"\n",
    "medicaid = pd.read_csv(medicaid_file)\n",
    "medicaid"
   ]
  },
  {
   "cell_type": "markdown",
   "metadata": {},
   "source": [
    "**The available columns are listed below along with its data type:**"
   ]
  },
  {
   "cell_type": "code",
   "execution_count": 71,
   "metadata": {
    "scrolled": false
   },
   "outputs": [
    {
     "data": {
      "text/plain": [
       "State                                              object\n",
       "Domain                                             object\n",
       "Reporting Program                                  object\n",
       "Measure Name                                       object\n",
       "Measure Abbreviation                               object\n",
       "Measure Type                                       object\n",
       "Rate Definition                                    object\n",
       "FFY                                                 int64\n",
       "Population                                         object\n",
       "Methodology                                        object\n",
       "State Rate                                         object\n",
       "Number of States Reporting                          int64\n",
       "Median                                            float64\n",
       "Bottom Quartile                                   float64\n",
       "Top Quartile                                      float64\n",
       "Notes                                              object\n",
       "Source                                             object\n",
       "State Specific Comments                            object\n",
       "Rate Used in Calculating State Mean and Median     object\n",
       "dtype: object"
      ]
     },
     "execution_count": 71,
     "metadata": {},
     "output_type": "execute_result"
    }
   ],
   "source": [
    "#starts out with 3096 rows and 19 cols \n",
    "medicaid.dtypes\n",
    "# 14 of the 18 cols are qualitative data "
   ]
  },
  {
   "cell_type": "markdown",
   "metadata": {},
   "source": [
    "**Overview of the Dataset's Organization** </p>\n",
    "I. State (52) \n",
    "  A. Reporting Program (2)</p>\n",
    "    1. Domain (7)</p>\n",
    "       a. Measure Name (45) </p>\n",
    "         i. State Rate </p>\n",
    "       \n",
    "**The numbers inside the parenthesis indicate the number of unique values for each column or feature**\n",
    "\n",
    "Each state can report to either the Adult Core Set OR the Child Core Set. These are the two types of 'Reporting Program'. Each reporting program can have one or more domain and each domain can have several measure name. Each measure name attributed to a state submission will have a unique 'State Rate'. Each entry includes information on the top, median and bottom values for the 'Measure Name' in question. \n",
    "\n",
    "We can choose to further arrange the dataset by based on 'Population' which differentiates between Medicaid, CHIPS, Dual types of eligibility and some combination of the three but for our purposes, it is more straightforward to use domain as the primary branch. \n",
    "\n"
   ]
  },
  {
   "cell_type": "code",
   "execution_count": 72,
   "metadata": {},
   "outputs": [
    {
     "data": {
      "text/plain": [
       "array(['Wyoming', 'Alabama', 'Alaska', 'Arizona', 'Arkansas',\n",
       "       'California', 'Colorado', 'Connecticut', 'Delaware',\n",
       "       'District of Columbia', 'Florida', 'Georgia', 'Hawaii', 'Idaho',\n",
       "       'Illinois', 'Indiana', 'Iowa', 'Kansas', 'Kentucky', 'Louisiana',\n",
       "       'Maine', 'Maryland', 'Massachusetts', 'Michigan', 'Minnesota',\n",
       "       'Mississippi', 'Missouri', 'Montana', 'Nebraska', 'Nevada',\n",
       "       'New Hampshire', 'New Jersey', 'New Mexico', 'New York',\n",
       "       'North Carolina', 'North Dakota', 'Ohio', 'Oklahoma', 'Oregon',\n",
       "       'Pennsylvania', 'Rhode Island', 'South Carolina', 'South Dakota',\n",
       "       'Tennessee', 'Texas', 'Utah', 'Vermont', 'Virginia', 'Washington',\n",
       "       'West Virginia', 'Wisconsin'], dtype=object)"
      ]
     },
     "execution_count": 72,
     "metadata": {},
     "output_type": "execute_result"
    }
   ],
   "source": [
    "medicaid['State'].unique()"
   ]
  },
  {
   "cell_type": "code",
   "execution_count": 73,
   "metadata": {
    "scrolled": true
   },
   "outputs": [
    {
     "data": {
      "text/plain": [
       "array(['Behavioral Health Care', 'Care of Acute and Chronic Conditions',\n",
       "       'Maternal and Perinatal Health',\n",
       "       'Primary Care Access and Preventive Care',\n",
       "       'Dental and Oral Health Services'], dtype=object)"
      ]
     },
     "execution_count": 73,
     "metadata": {},
     "output_type": "execute_result"
    }
   ],
   "source": [
    "medicaid['Domain'].unique()"
   ]
  },
  {
   "cell_type": "code",
   "execution_count": 74,
   "metadata": {},
   "outputs": [
    {
     "data": {
      "text/plain": [
       "array(['Follow-Up After Hospitalization for Mental Illness: Age 18 and Older',\n",
       "       'Follow-Up After Hospitalization for Mental Illness: Ages 6 to 17',\n",
       "       'Use of Opioids at High Dosage in Persons Without Cancer: Age 18 and Older',\n",
       "       'PQI 01: Diabetes Short-Term Complications Admission Rate: Age 18 and Older',\n",
       "       'Follow-Up Care for Children Prescribed Attention-Deficit/Hyperactivity Disorder (ADHD) Medication: Ages 6 to 12',\n",
       "       'PQI 05: Chronic Obstructive Pulmonary Disease (COPD) or Asthma in Older Adults Admission Rate: Age 40 and Older',\n",
       "       'PQI 08: Heart Failure Admission Rate: Age 18 and Older',\n",
       "       'PQI 15: Asthma in Younger Adults Admission Rate: Ages 18 to 39',\n",
       "       'Contraceptive Care: Postpartum Women Ages 21 to 44',\n",
       "       'Prenatal and Postpartum Care: Postpartum Care',\n",
       "       'Adult Body Mass Index Assessment: Ages 18 to 74',\n",
       "       'Breast Cancer Screening: Ages 50 to 74',\n",
       "       'Cervical Cancer Screening: Ages 21 to 64',\n",
       "       'Chlamydia Screening in Women Ages 21 to 24',\n",
       "       'Use of First-Line Psychosocial Care for Children and Adolescents on Antipsychotics: Ages 1 to 17',\n",
       "       'Use of Multiple Concurrent Antipsychotics in Children and Adolescents: Ages 1 to 17',\n",
       "       'Ambulatory Care: Emergency Department (ED) Visits: Ages 0 to 19',\n",
       "       'Asthma Medication Ratio: Ages 5 to 18',\n",
       "       'Dental Sealants for 6-9 Year-Old Children at Elevated Caries Risk',\n",
       "       'Percentage of Eligibles Who Received Preventive Dental Services: Ages 1 to 20',\n",
       "       'Contraceptive Care: All Women Ages 15 to 20',\n",
       "       'Contraceptive Care: Postpartum Women Ages 15 to 20',\n",
       "       'Live Births Weighing Less Than 2,500 Grams',\n",
       "       'Prenatal and Postpartum Care: Timeliness of Prenatal Care',\n",
       "       'Adolescent Well-Care Visits: Ages 12 to 21',\n",
       "       'Childhood Immunization Status: Age 2',\n",
       "       \"Children and Adolescents' Access to Primary Care Practitioners: Ages 12 Months to 19 Years\",\n",
       "       'Chlamydia Screening in Women Ages 16 to 20',\n",
       "       'Developmental Screening in the First Three Years of Life: Ages 0 to 3',\n",
       "       'Immunizations for Adolescents: Age 13',\n",
       "       'Weight Assessment and Counseling for Nutrition and Physical Activity for Children/Adolescents - Body Mass Index Assessment for Children/Adolescents: Ages 3 to 17',\n",
       "       'Well-Child Visits in the First 15 Months of Life',\n",
       "       'Well-Child Visits in the Third, Fourth, Fifth, and Sixth Years of Life',\n",
       "       'Adherence to Antipsychotic Medications for Individuals with Schizophrenia: Ages 19 to 64',\n",
       "       'Antidepressant Medication Management: Age 18 and Older',\n",
       "       'Diabetes Screening for People with Schizophrenia or Bipolar Disorder Who Are Using Antipsychotic Medications: Ages 18 to 64',\n",
       "       'Follow-Up After Emergency Department Visit for Alcohol and Other Drug Abuse or Dependence: Age 18 and Older',\n",
       "       'Follow-Up After Emergency Department Visit for Mental Illness: Age 18 and Older',\n",
       "       'Initiation and Engagement of Alcohol and Other Drug Abuse or Dependence Treatment: Age 18 and Older',\n",
       "       'Annual Monitoring for Patients on Persistent Medications: Age 18 and Older',\n",
       "       'Asthma Medication Ratio: Ages 19 to 64',\n",
       "       'Comprehensive Diabetes Care: Hemoglobin A1c Testing: Ages 18 to 75',\n",
       "       'Controlling High Blood Pressure: Ages 18 to 85',\n",
       "       'Plan All-Cause Readmissions: Ages 18 to 64',\n",
       "       'Comprehensive Diabetes Care: Hemoglobin A1c Poor Control (>9.0%): Ages 18 to 75'],\n",
       "      dtype=object)"
      ]
     },
     "execution_count": 74,
     "metadata": {},
     "output_type": "execute_result"
    }
   ],
   "source": [
    "medicaid['Measure Name'].unique()"
   ]
  },
  {
   "cell_type": "code",
   "execution_count": 75,
   "metadata": {},
   "outputs": [
    {
     "data": {
      "text/plain": [
       "array(['Medicaid & Dual Eligibles', 'Medicaid only', 'CHIP only',\n",
       "       'Medicaid & CHIP', 'Medicaid', 'Medicaid & CHIP & Dual Eligibles'],\n",
       "      dtype=object)"
      ]
     },
     "execution_count": 75,
     "metadata": {},
     "output_type": "execute_result"
    }
   ],
   "source": [
    "medicaid['Population'].unique()"
   ]
  },
  {
   "cell_type": "markdown",
   "metadata": {},
   "source": [
    "# Exploring Other Ways to Arrange Information"
   ]
  },
  {
   "cell_type": "markdown",
   "metadata": {},
   "source": [
    "**When arranged by State and Domain**"
   ]
  },
  {
   "cell_type": "code",
   "execution_count": 76,
   "metadata": {},
   "outputs": [],
   "source": [
    "view_1= medicaid.groupby(by=['State','Domain', 'Population','Measure Abbreviation', 'State Rate'])[\"Domain\"].count()"
   ]
  },
  {
   "cell_type": "code",
   "execution_count": 77,
   "metadata": {},
   "outputs": [
    {
     "data": {
      "text/plain": [
       "State    Domain                                   Population     Measure Abbreviation  State Rate\n",
       "Alabama  Behavioral Health Care                   CHIP only      ADD-CH                41.6          1\n",
       "                                                                                       48.9          1\n",
       "                                                                 APC-CH                2.7           1\n",
       "                                                                 APP-CH                58.1          1\n",
       "                                                                 FUH-CH                31.6          1\n",
       "                                                                                                    ..\n",
       "Wyoming  Primary Care Access and Preventive Care  Medicaid only  IMA-CH                10.4          1\n",
       "                                                                                       30.9          1\n",
       "                                                                 W15-CH                34.3          1\n",
       "                                                                 W34-CH                53.5          1\n",
       "                                                                 WCC-CH                2.1           1\n",
       "Name: Domain, Length: 3055, dtype: int64"
      ]
     },
     "execution_count": 77,
     "metadata": {},
     "output_type": "execute_result"
    }
   ],
   "source": [
    "view_1"
   ]
  },
  {
   "cell_type": "markdown",
   "metadata": {},
   "source": [
    "**When arranged by a specific condition and in this case by the domain value 'Behavioral Health Care'**"
   ]
  },
  {
   "cell_type": "code",
   "execution_count": 78,
   "metadata": {},
   "outputs": [
    {
     "data": {
      "text/html": [
       "<div>\n",
       "<style scoped>\n",
       "    .dataframe tbody tr th:only-of-type {\n",
       "        vertical-align: middle;\n",
       "    }\n",
       "\n",
       "    .dataframe tbody tr th {\n",
       "        vertical-align: top;\n",
       "    }\n",
       "\n",
       "    .dataframe thead th {\n",
       "        text-align: right;\n",
       "    }\n",
       "</style>\n",
       "<table border=\"1\" class=\"dataframe\">\n",
       "  <thead>\n",
       "    <tr style=\"text-align: right;\">\n",
       "      <th></th>\n",
       "      <th>State</th>\n",
       "      <th>Domain</th>\n",
       "      <th>Reporting Program</th>\n",
       "      <th>Measure Name</th>\n",
       "      <th>Measure Abbreviation</th>\n",
       "      <th>Measure Type</th>\n",
       "      <th>Rate Definition</th>\n",
       "      <th>FFY</th>\n",
       "      <th>Population</th>\n",
       "      <th>Methodology</th>\n",
       "      <th>State Rate</th>\n",
       "      <th>Number of States Reporting</th>\n",
       "      <th>Median</th>\n",
       "      <th>Bottom Quartile</th>\n",
       "      <th>Top Quartile</th>\n",
       "      <th>Notes</th>\n",
       "      <th>Source</th>\n",
       "      <th>State Specific Comments</th>\n",
       "      <th>Rate Used in Calculating State Mean and Median</th>\n",
       "    </tr>\n",
       "  </thead>\n",
       "  <tbody>\n",
       "    <tr>\n",
       "      <th>0</th>\n",
       "      <td>Wyoming</td>\n",
       "      <td>Behavioral Health Care</td>\n",
       "      <td>Adult Core Set</td>\n",
       "      <td>Follow-Up After Hospitalization for Mental Ill...</td>\n",
       "      <td>FUH-AD</td>\n",
       "      <td>Higher rates are better for this measure</td>\n",
       "      <td>Percentage of Hospitalizations for Mental Illn...</td>\n",
       "      <td>2019</td>\n",
       "      <td>Medicaid &amp; Dual Eligibles</td>\n",
       "      <td>Administrative</td>\n",
       "      <td>45.4</td>\n",
       "      <td>42</td>\n",
       "      <td>54.8</td>\n",
       "      <td>41.7</td>\n",
       "      <td>63.0</td>\n",
       "      <td>NaN</td>\n",
       "      <td>Mathematica analysis of MACPro reports for the...</td>\n",
       "      <td>Rates include FFS population.</td>\n",
       "      <td>Yes</td>\n",
       "    </tr>\n",
       "    <tr>\n",
       "      <th>1</th>\n",
       "      <td>Alabama</td>\n",
       "      <td>Behavioral Health Care</td>\n",
       "      <td>Child Core Set</td>\n",
       "      <td>Follow-Up After Hospitalization for Mental Ill...</td>\n",
       "      <td>FUH-CH</td>\n",
       "      <td>Higher rates are better for this measure</td>\n",
       "      <td>Percentage of Hospitalizations for Mental Illn...</td>\n",
       "      <td>2019</td>\n",
       "      <td>Medicaid only</td>\n",
       "      <td>Administrative</td>\n",
       "      <td>41.0</td>\n",
       "      <td>44</td>\n",
       "      <td>41.9</td>\n",
       "      <td>35.0</td>\n",
       "      <td>58.8</td>\n",
       "      <td>NaN</td>\n",
       "      <td>Mathematica analysis of MACPro reports for the...</td>\n",
       "      <td>Medicaid rates include FFS and PCCM populations.</td>\n",
       "      <td>Yes</td>\n",
       "    </tr>\n",
       "    <tr>\n",
       "      <th>2</th>\n",
       "      <td>Alabama</td>\n",
       "      <td>Behavioral Health Care</td>\n",
       "      <td>Child Core Set</td>\n",
       "      <td>Follow-Up After Hospitalization for Mental Ill...</td>\n",
       "      <td>FUH-CH</td>\n",
       "      <td>Higher rates are better for this measure</td>\n",
       "      <td>Percentage of Hospitalizations for Mental Illn...</td>\n",
       "      <td>2019</td>\n",
       "      <td>Medicaid only</td>\n",
       "      <td>Administrative</td>\n",
       "      <td>65.8</td>\n",
       "      <td>44</td>\n",
       "      <td>66.3</td>\n",
       "      <td>58.6</td>\n",
       "      <td>79.5</td>\n",
       "      <td>NaN</td>\n",
       "      <td>Mathematica analysis of MACPro reports for the...</td>\n",
       "      <td>Medicaid rates include FFS and PCCM populations.</td>\n",
       "      <td>Yes</td>\n",
       "    </tr>\n",
       "    <tr>\n",
       "      <th>3</th>\n",
       "      <td>Wyoming</td>\n",
       "      <td>Behavioral Health Care</td>\n",
       "      <td>Adult Core Set</td>\n",
       "      <td>Use of Opioids at High Dosage in Persons Witho...</td>\n",
       "      <td>OHD-AD</td>\n",
       "      <td>Lower rates are better for this measure</td>\n",
       "      <td>Percentage of Adults Without Cancer with Two o...</td>\n",
       "      <td>2019</td>\n",
       "      <td>Medicaid &amp; Dual Eligibles</td>\n",
       "      <td>Administrative</td>\n",
       "      <td>21.7</td>\n",
       "      <td>26</td>\n",
       "      <td>6.4</td>\n",
       "      <td>10.7</td>\n",
       "      <td>3.4</td>\n",
       "      <td>NaN</td>\n",
       "      <td>Mathematica analysis of MACPro reports for the...</td>\n",
       "      <td>Rate includes FFS population.</td>\n",
       "      <td>Yes</td>\n",
       "    </tr>\n",
       "    <tr>\n",
       "      <th>5</th>\n",
       "      <td>Alabama</td>\n",
       "      <td>Behavioral Health Care</td>\n",
       "      <td>Child Core Set</td>\n",
       "      <td>Follow-Up After Hospitalization for Mental Ill...</td>\n",
       "      <td>FUH-CH</td>\n",
       "      <td>Higher rates are better for this measure</td>\n",
       "      <td>Percentage of Hospitalizations for Mental Illn...</td>\n",
       "      <td>2019</td>\n",
       "      <td>CHIP only</td>\n",
       "      <td>Administrative</td>\n",
       "      <td>31.6</td>\n",
       "      <td>44</td>\n",
       "      <td>41.9</td>\n",
       "      <td>35.0</td>\n",
       "      <td>58.8</td>\n",
       "      <td>NaN</td>\n",
       "      <td>Mathematica analysis of MACPro reports for the...</td>\n",
       "      <td>CHIP rates include separate CHIP population. R...</td>\n",
       "      <td>No</td>\n",
       "    </tr>\n",
       "    <tr>\n",
       "      <th>...</th>\n",
       "      <td>...</td>\n",
       "      <td>...</td>\n",
       "      <td>...</td>\n",
       "      <td>...</td>\n",
       "      <td>...</td>\n",
       "      <td>...</td>\n",
       "      <td>...</td>\n",
       "      <td>...</td>\n",
       "      <td>...</td>\n",
       "      <td>...</td>\n",
       "      <td>...</td>\n",
       "      <td>...</td>\n",
       "      <td>...</td>\n",
       "      <td>...</td>\n",
       "      <td>...</td>\n",
       "      <td>...</td>\n",
       "      <td>...</td>\n",
       "      <td>...</td>\n",
       "      <td>...</td>\n",
       "    </tr>\n",
       "    <tr>\n",
       "      <th>3079</th>\n",
       "      <td>Wisconsin</td>\n",
       "      <td>Behavioral Health Care</td>\n",
       "      <td>Adult Core Set</td>\n",
       "      <td>Initiation and Engagement of Alcohol and Other...</td>\n",
       "      <td>IET-AD</td>\n",
       "      <td>Higher rates are better for this measure</td>\n",
       "      <td>Percentage with a New Episode of Other Drug Ab...</td>\n",
       "      <td>2019</td>\n",
       "      <td>Medicaid</td>\n",
       "      <td>Administrative</td>\n",
       "      <td>40.1</td>\n",
       "      <td>37</td>\n",
       "      <td>39.9</td>\n",
       "      <td>37.3</td>\n",
       "      <td>42.2</td>\n",
       "      <td>NaN</td>\n",
       "      <td>Mathematica analysis of MACPro reports for the...</td>\n",
       "      <td>Rates include managed care population (15 MCOs...</td>\n",
       "      <td>Yes</td>\n",
       "    </tr>\n",
       "    <tr>\n",
       "      <th>3080</th>\n",
       "      <td>Wisconsin</td>\n",
       "      <td>Behavioral Health Care</td>\n",
       "      <td>Adult Core Set</td>\n",
       "      <td>Initiation and Engagement of Alcohol and Other...</td>\n",
       "      <td>IET-AD</td>\n",
       "      <td>Higher rates are better for this measure</td>\n",
       "      <td>Percentage with a New Episode of Other Drug Ab...</td>\n",
       "      <td>2019</td>\n",
       "      <td>Medicaid</td>\n",
       "      <td>Administrative</td>\n",
       "      <td>12.0</td>\n",
       "      <td>37</td>\n",
       "      <td>10.8</td>\n",
       "      <td>9.2</td>\n",
       "      <td>14.5</td>\n",
       "      <td>NaN</td>\n",
       "      <td>Mathematica analysis of MACPro reports for the...</td>\n",
       "      <td>Rates include managed care population (15 MCOs...</td>\n",
       "      <td>Yes</td>\n",
       "    </tr>\n",
       "    <tr>\n",
       "      <th>3081</th>\n",
       "      <td>Wisconsin</td>\n",
       "      <td>Behavioral Health Care</td>\n",
       "      <td>Adult Core Set</td>\n",
       "      <td>Initiation and Engagement of Alcohol and Other...</td>\n",
       "      <td>IET-AD</td>\n",
       "      <td>Higher rates are better for this measure</td>\n",
       "      <td>Percentage with a New Episode of Alcohol or Ot...</td>\n",
       "      <td>2019</td>\n",
       "      <td>Medicaid</td>\n",
       "      <td>Administrative</td>\n",
       "      <td>42.0</td>\n",
       "      <td>38</td>\n",
       "      <td>42.0</td>\n",
       "      <td>37.6</td>\n",
       "      <td>45.2</td>\n",
       "      <td>NaN</td>\n",
       "      <td>Mathematica analysis of MACPro reports for the...</td>\n",
       "      <td>Rates include managed care population (15 MCOs...</td>\n",
       "      <td>Yes</td>\n",
       "    </tr>\n",
       "    <tr>\n",
       "      <th>3082</th>\n",
       "      <td>Wisconsin</td>\n",
       "      <td>Behavioral Health Care</td>\n",
       "      <td>Adult Core Set</td>\n",
       "      <td>Initiation and Engagement of Alcohol and Other...</td>\n",
       "      <td>IET-AD</td>\n",
       "      <td>Higher rates are better for this measure</td>\n",
       "      <td>Percentage with a New Episode of Alcohol or Ot...</td>\n",
       "      <td>2019</td>\n",
       "      <td>Medicaid</td>\n",
       "      <td>Administrative</td>\n",
       "      <td>16.7</td>\n",
       "      <td>38</td>\n",
       "      <td>15.7</td>\n",
       "      <td>11.4</td>\n",
       "      <td>19.1</td>\n",
       "      <td>NaN</td>\n",
       "      <td>Mathematica analysis of MACPro reports for the...</td>\n",
       "      <td>Rates include managed care population (15 MCOs...</td>\n",
       "      <td>Yes</td>\n",
       "    </tr>\n",
       "    <tr>\n",
       "      <th>3095</th>\n",
       "      <td>Wyoming</td>\n",
       "      <td>Behavioral Health Care</td>\n",
       "      <td>Adult Core Set</td>\n",
       "      <td>Follow-Up After Hospitalization for Mental Ill...</td>\n",
       "      <td>FUH-AD</td>\n",
       "      <td>Higher rates are better for this measure</td>\n",
       "      <td>Percentage of Hospitalizations for Mental Illn...</td>\n",
       "      <td>2019</td>\n",
       "      <td>Medicaid &amp; Dual Eligibles</td>\n",
       "      <td>Administrative</td>\n",
       "      <td>28.2</td>\n",
       "      <td>42</td>\n",
       "      <td>32.3</td>\n",
       "      <td>24.3</td>\n",
       "      <td>46.7</td>\n",
       "      <td>NaN</td>\n",
       "      <td>Mathematica analysis of MACPro reports for the...</td>\n",
       "      <td>Rates include FFS population.</td>\n",
       "      <td>Yes</td>\n",
       "    </tr>\n",
       "  </tbody>\n",
       "</table>\n",
       "<p>1005 rows × 19 columns</p>\n",
       "</div>"
      ],
      "text/plain": [
       "          State                  Domain Reporting Program  \\\n",
       "0       Wyoming  Behavioral Health Care    Adult Core Set   \n",
       "1       Alabama  Behavioral Health Care    Child Core Set   \n",
       "2       Alabama  Behavioral Health Care    Child Core Set   \n",
       "3       Wyoming  Behavioral Health Care    Adult Core Set   \n",
       "5       Alabama  Behavioral Health Care    Child Core Set   \n",
       "...         ...                     ...               ...   \n",
       "3079  Wisconsin  Behavioral Health Care    Adult Core Set   \n",
       "3080  Wisconsin  Behavioral Health Care    Adult Core Set   \n",
       "3081  Wisconsin  Behavioral Health Care    Adult Core Set   \n",
       "3082  Wisconsin  Behavioral Health Care    Adult Core Set   \n",
       "3095    Wyoming  Behavioral Health Care    Adult Core Set   \n",
       "\n",
       "                                           Measure Name Measure Abbreviation  \\\n",
       "0     Follow-Up After Hospitalization for Mental Ill...               FUH-AD   \n",
       "1     Follow-Up After Hospitalization for Mental Ill...               FUH-CH   \n",
       "2     Follow-Up After Hospitalization for Mental Ill...               FUH-CH   \n",
       "3     Use of Opioids at High Dosage in Persons Witho...               OHD-AD   \n",
       "5     Follow-Up After Hospitalization for Mental Ill...               FUH-CH   \n",
       "...                                                 ...                  ...   \n",
       "3079  Initiation and Engagement of Alcohol and Other...               IET-AD   \n",
       "3080  Initiation and Engagement of Alcohol and Other...               IET-AD   \n",
       "3081  Initiation and Engagement of Alcohol and Other...               IET-AD   \n",
       "3082  Initiation and Engagement of Alcohol and Other...               IET-AD   \n",
       "3095  Follow-Up After Hospitalization for Mental Ill...               FUH-AD   \n",
       "\n",
       "                                  Measure Type  \\\n",
       "0     Higher rates are better for this measure   \n",
       "1     Higher rates are better for this measure   \n",
       "2     Higher rates are better for this measure   \n",
       "3      Lower rates are better for this measure   \n",
       "5     Higher rates are better for this measure   \n",
       "...                                        ...   \n",
       "3079  Higher rates are better for this measure   \n",
       "3080  Higher rates are better for this measure   \n",
       "3081  Higher rates are better for this measure   \n",
       "3082  Higher rates are better for this measure   \n",
       "3095  Higher rates are better for this measure   \n",
       "\n",
       "                                        Rate Definition   FFY  \\\n",
       "0     Percentage of Hospitalizations for Mental Illn...  2019   \n",
       "1     Percentage of Hospitalizations for Mental Illn...  2019   \n",
       "2     Percentage of Hospitalizations for Mental Illn...  2019   \n",
       "3     Percentage of Adults Without Cancer with Two o...  2019   \n",
       "5     Percentage of Hospitalizations for Mental Illn...  2019   \n",
       "...                                                 ...   ...   \n",
       "3079  Percentage with a New Episode of Other Drug Ab...  2019   \n",
       "3080  Percentage with a New Episode of Other Drug Ab...  2019   \n",
       "3081  Percentage with a New Episode of Alcohol or Ot...  2019   \n",
       "3082  Percentage with a New Episode of Alcohol or Ot...  2019   \n",
       "3095  Percentage of Hospitalizations for Mental Illn...  2019   \n",
       "\n",
       "                     Population     Methodology State Rate  \\\n",
       "0     Medicaid & Dual Eligibles  Administrative       45.4   \n",
       "1                 Medicaid only  Administrative       41.0   \n",
       "2                 Medicaid only  Administrative       65.8   \n",
       "3     Medicaid & Dual Eligibles  Administrative       21.7   \n",
       "5                     CHIP only  Administrative       31.6   \n",
       "...                         ...             ...        ...   \n",
       "3079                   Medicaid  Administrative       40.1   \n",
       "3080                   Medicaid  Administrative       12.0   \n",
       "3081                   Medicaid  Administrative       42.0   \n",
       "3082                   Medicaid  Administrative       16.7   \n",
       "3095  Medicaid & Dual Eligibles  Administrative       28.2   \n",
       "\n",
       "      Number of States Reporting  Median  Bottom Quartile  Top Quartile Notes  \\\n",
       "0                             42    54.8             41.7          63.0   NaN   \n",
       "1                             44    41.9             35.0          58.8   NaN   \n",
       "2                             44    66.3             58.6          79.5   NaN   \n",
       "3                             26     6.4             10.7           3.4   NaN   \n",
       "5                             44    41.9             35.0          58.8   NaN   \n",
       "...                          ...     ...              ...           ...   ...   \n",
       "3079                          37    39.9             37.3          42.2   NaN   \n",
       "3080                          37    10.8              9.2          14.5   NaN   \n",
       "3081                          38    42.0             37.6          45.2   NaN   \n",
       "3082                          38    15.7             11.4          19.1   NaN   \n",
       "3095                          42    32.3             24.3          46.7   NaN   \n",
       "\n",
       "                                                 Source  \\\n",
       "0     Mathematica analysis of MACPro reports for the...   \n",
       "1     Mathematica analysis of MACPro reports for the...   \n",
       "2     Mathematica analysis of MACPro reports for the...   \n",
       "3     Mathematica analysis of MACPro reports for the...   \n",
       "5     Mathematica analysis of MACPro reports for the...   \n",
       "...                                                 ...   \n",
       "3079  Mathematica analysis of MACPro reports for the...   \n",
       "3080  Mathematica analysis of MACPro reports for the...   \n",
       "3081  Mathematica analysis of MACPro reports for the...   \n",
       "3082  Mathematica analysis of MACPro reports for the...   \n",
       "3095  Mathematica analysis of MACPro reports for the...   \n",
       "\n",
       "                                State Specific Comments  \\\n",
       "0                         Rates include FFS population.   \n",
       "1      Medicaid rates include FFS and PCCM populations.   \n",
       "2      Medicaid rates include FFS and PCCM populations.   \n",
       "3                         Rate includes FFS population.   \n",
       "5     CHIP rates include separate CHIP population. R...   \n",
       "...                                                 ...   \n",
       "3079  Rates include managed care population (15 MCOs...   \n",
       "3080  Rates include managed care population (15 MCOs...   \n",
       "3081  Rates include managed care population (15 MCOs...   \n",
       "3082  Rates include managed care population (15 MCOs...   \n",
       "3095                      Rates include FFS population.   \n",
       "\n",
       "     Rate Used in Calculating State Mean and Median  \n",
       "0                                               Yes  \n",
       "1                                               Yes  \n",
       "2                                               Yes  \n",
       "3                                               Yes  \n",
       "5                                                No  \n",
       "...                                             ...  \n",
       "3079                                            Yes  \n",
       "3080                                            Yes  \n",
       "3081                                            Yes  \n",
       "3082                                            Yes  \n",
       "3095                                            Yes  \n",
       "\n",
       "[1005 rows x 19 columns]"
      ]
     },
     "execution_count": 78,
     "metadata": {},
     "output_type": "execute_result"
    }
   ],
   "source": [
    "behavioral = medicaid[(medicaid.Domain == 'Behavioral Health Care')]\n",
    "behavioral"
   ]
  },
  {
   "cell_type": "markdown",
   "metadata": {},
   "source": [
    "**Or dental**"
   ]
  },
  {
   "cell_type": "code",
   "execution_count": 79,
   "metadata": {},
   "outputs": [
    {
     "data": {
      "text/html": [
       "<div>\n",
       "<style scoped>\n",
       "    .dataframe tbody tr th:only-of-type {\n",
       "        vertical-align: middle;\n",
       "    }\n",
       "\n",
       "    .dataframe tbody tr th {\n",
       "        vertical-align: top;\n",
       "    }\n",
       "\n",
       "    .dataframe thead th {\n",
       "        text-align: right;\n",
       "    }\n",
       "</style>\n",
       "<table border=\"1\" class=\"dataframe\">\n",
       "  <thead>\n",
       "    <tr style=\"text-align: right;\">\n",
       "      <th></th>\n",
       "      <th>State</th>\n",
       "      <th>Domain</th>\n",
       "      <th>Reporting Program</th>\n",
       "      <th>Measure Name</th>\n",
       "      <th>Measure Abbreviation</th>\n",
       "      <th>Measure Type</th>\n",
       "      <th>Rate Definition</th>\n",
       "      <th>FFY</th>\n",
       "      <th>Population</th>\n",
       "      <th>Methodology</th>\n",
       "      <th>State Rate</th>\n",
       "      <th>Number of States Reporting</th>\n",
       "      <th>Median</th>\n",
       "      <th>Bottom Quartile</th>\n",
       "      <th>Top Quartile</th>\n",
       "      <th>Notes</th>\n",
       "      <th>Source</th>\n",
       "      <th>State Specific Comments</th>\n",
       "      <th>Rate Used in Calculating State Mean and Median</th>\n",
       "    </tr>\n",
       "  </thead>\n",
       "  <tbody>\n",
       "    <tr>\n",
       "      <th>35</th>\n",
       "      <td>Alabama</td>\n",
       "      <td>Dental and Oral Health Services</td>\n",
       "      <td>Child Core Set</td>\n",
       "      <td>Dental Sealants for 6-9 Year-Old Children at E...</td>\n",
       "      <td>SEAL-CH</td>\n",
       "      <td>Higher rates are better for this measure</td>\n",
       "      <td>Percentage at Elevated Risk of Dental Caries (...</td>\n",
       "      <td>2019</td>\n",
       "      <td>Medicaid only</td>\n",
       "      <td>Administrative</td>\n",
       "      <td>24.0</td>\n",
       "      <td>35</td>\n",
       "      <td>22.7</td>\n",
       "      <td>19.1</td>\n",
       "      <td>25.3</td>\n",
       "      <td>NaN</td>\n",
       "      <td>Mathematica analysis of MACPro reports for the...</td>\n",
       "      <td>Medicaid rate includes FFS and PCCM populations.</td>\n",
       "      <td>Yes</td>\n",
       "    </tr>\n",
       "    <tr>\n",
       "      <th>36</th>\n",
       "      <td>Alabama</td>\n",
       "      <td>Dental and Oral Health Services</td>\n",
       "      <td>Child Core Set</td>\n",
       "      <td>Dental Sealants for 6-9 Year-Old Children at E...</td>\n",
       "      <td>SEAL-CH</td>\n",
       "      <td>Higher rates are better for this measure</td>\n",
       "      <td>Percentage at Elevated Risk of Dental Caries (...</td>\n",
       "      <td>2019</td>\n",
       "      <td>CHIP only</td>\n",
       "      <td>Administrative</td>\n",
       "      <td>22.4</td>\n",
       "      <td>35</td>\n",
       "      <td>22.7</td>\n",
       "      <td>19.1</td>\n",
       "      <td>25.3</td>\n",
       "      <td>NaN</td>\n",
       "      <td>Mathematica analysis of MACPro reports for the...</td>\n",
       "      <td>CHIP rate includes separate CHIP population. R...</td>\n",
       "      <td>No</td>\n",
       "    </tr>\n",
       "    <tr>\n",
       "      <th>37</th>\n",
       "      <td>Alabama</td>\n",
       "      <td>Dental and Oral Health Services</td>\n",
       "      <td>Child Core Set</td>\n",
       "      <td>Percentage of Eligibles Who Received Preventiv...</td>\n",
       "      <td>PDENT-CH</td>\n",
       "      <td>Higher rates are better for this measure</td>\n",
       "      <td>Percentage Enrolled in Medicaid or Medicaid Ex...</td>\n",
       "      <td>2019</td>\n",
       "      <td>Medicaid only</td>\n",
       "      <td>Administrative</td>\n",
       "      <td>50.0</td>\n",
       "      <td>51</td>\n",
       "      <td>49.1</td>\n",
       "      <td>44.1</td>\n",
       "      <td>52.1</td>\n",
       "      <td>NaN</td>\n",
       "      <td>Mathematica analysis of FFY 2019 Form CMS-416 ...</td>\n",
       "      <td>None</td>\n",
       "      <td>Yes</td>\n",
       "    </tr>\n",
       "    <tr>\n",
       "      <th>90</th>\n",
       "      <td>Alaska</td>\n",
       "      <td>Dental and Oral Health Services</td>\n",
       "      <td>Child Core Set</td>\n",
       "      <td>Dental Sealants for 6-9 Year-Old Children at E...</td>\n",
       "      <td>SEAL-CH</td>\n",
       "      <td>Higher rates are better for this measure</td>\n",
       "      <td>Percentage at Elevated Risk of Dental Caries (...</td>\n",
       "      <td>2019</td>\n",
       "      <td>Medicaid &amp; CHIP</td>\n",
       "      <td>Administrative</td>\n",
       "      <td>45.7</td>\n",
       "      <td>35</td>\n",
       "      <td>22.7</td>\n",
       "      <td>19.1</td>\n",
       "      <td>25.3</td>\n",
       "      <td>NaN</td>\n",
       "      <td>Mathematica analysis of MACPro reports for the...</td>\n",
       "      <td>Rate includes FFS population.</td>\n",
       "      <td>Yes</td>\n",
       "    </tr>\n",
       "    <tr>\n",
       "      <th>91</th>\n",
       "      <td>Alaska</td>\n",
       "      <td>Dental and Oral Health Services</td>\n",
       "      <td>Child Core Set</td>\n",
       "      <td>Percentage of Eligibles Who Received Preventiv...</td>\n",
       "      <td>PDENT-CH</td>\n",
       "      <td>Higher rates are better for this measure</td>\n",
       "      <td>Percentage Enrolled in Medicaid or Medicaid Ex...</td>\n",
       "      <td>2019</td>\n",
       "      <td>Medicaid only</td>\n",
       "      <td>Administrative</td>\n",
       "      <td>44.5</td>\n",
       "      <td>51</td>\n",
       "      <td>49.1</td>\n",
       "      <td>44.1</td>\n",
       "      <td>52.1</td>\n",
       "      <td>NaN</td>\n",
       "      <td>Mathematica analysis of FFY 2019 Form CMS-416 ...</td>\n",
       "      <td>None</td>\n",
       "      <td>Yes</td>\n",
       "    </tr>\n",
       "    <tr>\n",
       "      <th>...</th>\n",
       "      <td>...</td>\n",
       "      <td>...</td>\n",
       "      <td>...</td>\n",
       "      <td>...</td>\n",
       "      <td>...</td>\n",
       "      <td>...</td>\n",
       "      <td>...</td>\n",
       "      <td>...</td>\n",
       "      <td>...</td>\n",
       "      <td>...</td>\n",
       "      <td>...</td>\n",
       "      <td>...</td>\n",
       "      <td>...</td>\n",
       "      <td>...</td>\n",
       "      <td>...</td>\n",
       "      <td>...</td>\n",
       "      <td>...</td>\n",
       "      <td>...</td>\n",
       "      <td>...</td>\n",
       "    </tr>\n",
       "    <tr>\n",
       "      <th>1553</th>\n",
       "      <td>West Virginia</td>\n",
       "      <td>Dental and Oral Health Services</td>\n",
       "      <td>Child Core Set</td>\n",
       "      <td>Percentage of Eligibles Who Received Preventiv...</td>\n",
       "      <td>PDENT-CH</td>\n",
       "      <td>Higher rates are better for this measure</td>\n",
       "      <td>Percentage Enrolled in Medicaid or Medicaid Ex...</td>\n",
       "      <td>2019</td>\n",
       "      <td>Medicaid only</td>\n",
       "      <td>Administrative</td>\n",
       "      <td>48.1</td>\n",
       "      <td>51</td>\n",
       "      <td>49.1</td>\n",
       "      <td>44.1</td>\n",
       "      <td>52.1</td>\n",
       "      <td>NaN</td>\n",
       "      <td>Mathematica analysis of FFY 2019 Form CMS-416 ...</td>\n",
       "      <td>None</td>\n",
       "      <td>Yes</td>\n",
       "    </tr>\n",
       "    <tr>\n",
       "      <th>1608</th>\n",
       "      <td>Wisconsin</td>\n",
       "      <td>Dental and Oral Health Services</td>\n",
       "      <td>Child Core Set</td>\n",
       "      <td>Percentage of Eligibles Who Received Preventiv...</td>\n",
       "      <td>PDENT-CH</td>\n",
       "      <td>Higher rates are better for this measure</td>\n",
       "      <td>Percentage Enrolled in Medicaid or Medicaid Ex...</td>\n",
       "      <td>2019</td>\n",
       "      <td>Medicaid only</td>\n",
       "      <td>Administrative</td>\n",
       "      <td>41.0</td>\n",
       "      <td>51</td>\n",
       "      <td>49.1</td>\n",
       "      <td>44.1</td>\n",
       "      <td>52.1</td>\n",
       "      <td>NaN</td>\n",
       "      <td>Mathematica analysis of FFY 2019 Form CMS-416 ...</td>\n",
       "      <td>None</td>\n",
       "      <td>Yes</td>\n",
       "    </tr>\n",
       "    <tr>\n",
       "      <th>1644</th>\n",
       "      <td>Wyoming</td>\n",
       "      <td>Dental and Oral Health Services</td>\n",
       "      <td>Child Core Set</td>\n",
       "      <td>Dental Sealants for 6-9 Year-Old Children at E...</td>\n",
       "      <td>SEAL-CH</td>\n",
       "      <td>Higher rates are better for this measure</td>\n",
       "      <td>Percentage at Elevated Risk of Dental Caries (...</td>\n",
       "      <td>2019</td>\n",
       "      <td>Medicaid only</td>\n",
       "      <td>Administrative</td>\n",
       "      <td>23.8</td>\n",
       "      <td>35</td>\n",
       "      <td>22.7</td>\n",
       "      <td>19.1</td>\n",
       "      <td>25.3</td>\n",
       "      <td>NaN</td>\n",
       "      <td>Mathematica analysis of MACPro reports for the...</td>\n",
       "      <td>Medicaid rate includes FFS population.</td>\n",
       "      <td>Yes</td>\n",
       "    </tr>\n",
       "    <tr>\n",
       "      <th>1645</th>\n",
       "      <td>Wyoming</td>\n",
       "      <td>Dental and Oral Health Services</td>\n",
       "      <td>Child Core Set</td>\n",
       "      <td>Dental Sealants for 6-9 Year-Old Children at E...</td>\n",
       "      <td>SEAL-CH</td>\n",
       "      <td>Higher rates are better for this measure</td>\n",
       "      <td>Percentage at Elevated Risk of Dental Caries (...</td>\n",
       "      <td>2019</td>\n",
       "      <td>CHIP only</td>\n",
       "      <td>Administrative</td>\n",
       "      <td>16.8</td>\n",
       "      <td>35</td>\n",
       "      <td>22.7</td>\n",
       "      <td>19.1</td>\n",
       "      <td>25.3</td>\n",
       "      <td>NaN</td>\n",
       "      <td>Mathematica analysis of MACPro reports for the...</td>\n",
       "      <td>CHIP rate includes managed care population (1 ...</td>\n",
       "      <td>No</td>\n",
       "    </tr>\n",
       "    <tr>\n",
       "      <th>1646</th>\n",
       "      <td>Wyoming</td>\n",
       "      <td>Dental and Oral Health Services</td>\n",
       "      <td>Child Core Set</td>\n",
       "      <td>Percentage of Eligibles Who Received Preventiv...</td>\n",
       "      <td>PDENT-CH</td>\n",
       "      <td>Higher rates are better for this measure</td>\n",
       "      <td>Percentage Enrolled in Medicaid or Medicaid Ex...</td>\n",
       "      <td>2019</td>\n",
       "      <td>Medicaid only</td>\n",
       "      <td>Administrative</td>\n",
       "      <td>50.3</td>\n",
       "      <td>51</td>\n",
       "      <td>49.1</td>\n",
       "      <td>44.1</td>\n",
       "      <td>52.1</td>\n",
       "      <td>NaN</td>\n",
       "      <td>Mathematica analysis of FFY 2019 Form CMS-416 ...</td>\n",
       "      <td>None</td>\n",
       "      <td>Yes</td>\n",
       "    </tr>\n",
       "  </tbody>\n",
       "</table>\n",
       "<p>95 rows × 19 columns</p>\n",
       "</div>"
      ],
      "text/plain": [
       "              State                           Domain Reporting Program  \\\n",
       "35          Alabama  Dental and Oral Health Services    Child Core Set   \n",
       "36          Alabama  Dental and Oral Health Services    Child Core Set   \n",
       "37          Alabama  Dental and Oral Health Services    Child Core Set   \n",
       "90           Alaska  Dental and Oral Health Services    Child Core Set   \n",
       "91           Alaska  Dental and Oral Health Services    Child Core Set   \n",
       "...             ...                              ...               ...   \n",
       "1553  West Virginia  Dental and Oral Health Services    Child Core Set   \n",
       "1608      Wisconsin  Dental and Oral Health Services    Child Core Set   \n",
       "1644        Wyoming  Dental and Oral Health Services    Child Core Set   \n",
       "1645        Wyoming  Dental and Oral Health Services    Child Core Set   \n",
       "1646        Wyoming  Dental and Oral Health Services    Child Core Set   \n",
       "\n",
       "                                           Measure Name Measure Abbreviation  \\\n",
       "35    Dental Sealants for 6-9 Year-Old Children at E...              SEAL-CH   \n",
       "36    Dental Sealants for 6-9 Year-Old Children at E...              SEAL-CH   \n",
       "37    Percentage of Eligibles Who Received Preventiv...             PDENT-CH   \n",
       "90    Dental Sealants for 6-9 Year-Old Children at E...              SEAL-CH   \n",
       "91    Percentage of Eligibles Who Received Preventiv...             PDENT-CH   \n",
       "...                                                 ...                  ...   \n",
       "1553  Percentage of Eligibles Who Received Preventiv...             PDENT-CH   \n",
       "1608  Percentage of Eligibles Who Received Preventiv...             PDENT-CH   \n",
       "1644  Dental Sealants for 6-9 Year-Old Children at E...              SEAL-CH   \n",
       "1645  Dental Sealants for 6-9 Year-Old Children at E...              SEAL-CH   \n",
       "1646  Percentage of Eligibles Who Received Preventiv...             PDENT-CH   \n",
       "\n",
       "                                  Measure Type  \\\n",
       "35    Higher rates are better for this measure   \n",
       "36    Higher rates are better for this measure   \n",
       "37    Higher rates are better for this measure   \n",
       "90    Higher rates are better for this measure   \n",
       "91    Higher rates are better for this measure   \n",
       "...                                        ...   \n",
       "1553  Higher rates are better for this measure   \n",
       "1608  Higher rates are better for this measure   \n",
       "1644  Higher rates are better for this measure   \n",
       "1645  Higher rates are better for this measure   \n",
       "1646  Higher rates are better for this measure   \n",
       "\n",
       "                                        Rate Definition   FFY  \\\n",
       "35    Percentage at Elevated Risk of Dental Caries (...  2019   \n",
       "36    Percentage at Elevated Risk of Dental Caries (...  2019   \n",
       "37    Percentage Enrolled in Medicaid or Medicaid Ex...  2019   \n",
       "90    Percentage at Elevated Risk of Dental Caries (...  2019   \n",
       "91    Percentage Enrolled in Medicaid or Medicaid Ex...  2019   \n",
       "...                                                 ...   ...   \n",
       "1553  Percentage Enrolled in Medicaid or Medicaid Ex...  2019   \n",
       "1608  Percentage Enrolled in Medicaid or Medicaid Ex...  2019   \n",
       "1644  Percentage at Elevated Risk of Dental Caries (...  2019   \n",
       "1645  Percentage at Elevated Risk of Dental Caries (...  2019   \n",
       "1646  Percentage Enrolled in Medicaid or Medicaid Ex...  2019   \n",
       "\n",
       "           Population     Methodology State Rate  Number of States Reporting  \\\n",
       "35      Medicaid only  Administrative       24.0                          35   \n",
       "36          CHIP only  Administrative       22.4                          35   \n",
       "37      Medicaid only  Administrative       50.0                          51   \n",
       "90    Medicaid & CHIP  Administrative       45.7                          35   \n",
       "91      Medicaid only  Administrative       44.5                          51   \n",
       "...               ...             ...        ...                         ...   \n",
       "1553    Medicaid only  Administrative       48.1                          51   \n",
       "1608    Medicaid only  Administrative       41.0                          51   \n",
       "1644    Medicaid only  Administrative       23.8                          35   \n",
       "1645        CHIP only  Administrative       16.8                          35   \n",
       "1646    Medicaid only  Administrative       50.3                          51   \n",
       "\n",
       "      Median  Bottom Quartile  Top Quartile Notes  \\\n",
       "35      22.7             19.1          25.3   NaN   \n",
       "36      22.7             19.1          25.3   NaN   \n",
       "37      49.1             44.1          52.1   NaN   \n",
       "90      22.7             19.1          25.3   NaN   \n",
       "91      49.1             44.1          52.1   NaN   \n",
       "...      ...              ...           ...   ...   \n",
       "1553    49.1             44.1          52.1   NaN   \n",
       "1608    49.1             44.1          52.1   NaN   \n",
       "1644    22.7             19.1          25.3   NaN   \n",
       "1645    22.7             19.1          25.3   NaN   \n",
       "1646    49.1             44.1          52.1   NaN   \n",
       "\n",
       "                                                 Source  \\\n",
       "35    Mathematica analysis of MACPro reports for the...   \n",
       "36    Mathematica analysis of MACPro reports for the...   \n",
       "37    Mathematica analysis of FFY 2019 Form CMS-416 ...   \n",
       "90    Mathematica analysis of MACPro reports for the...   \n",
       "91    Mathematica analysis of FFY 2019 Form CMS-416 ...   \n",
       "...                                                 ...   \n",
       "1553  Mathematica analysis of FFY 2019 Form CMS-416 ...   \n",
       "1608  Mathematica analysis of FFY 2019 Form CMS-416 ...   \n",
       "1644  Mathematica analysis of MACPro reports for the...   \n",
       "1645  Mathematica analysis of MACPro reports for the...   \n",
       "1646  Mathematica analysis of FFY 2019 Form CMS-416 ...   \n",
       "\n",
       "                                State Specific Comments  \\\n",
       "35     Medicaid rate includes FFS and PCCM populations.   \n",
       "36    CHIP rate includes separate CHIP population. R...   \n",
       "37                                                 None   \n",
       "90                        Rate includes FFS population.   \n",
       "91                                                 None   \n",
       "...                                                 ...   \n",
       "1553                                               None   \n",
       "1608                                               None   \n",
       "1644             Medicaid rate includes FFS population.   \n",
       "1645  CHIP rate includes managed care population (1 ...   \n",
       "1646                                               None   \n",
       "\n",
       "     Rate Used in Calculating State Mean and Median  \n",
       "35                                              Yes  \n",
       "36                                               No  \n",
       "37                                              Yes  \n",
       "90                                              Yes  \n",
       "91                                              Yes  \n",
       "...                                             ...  \n",
       "1553                                            Yes  \n",
       "1608                                            Yes  \n",
       "1644                                            Yes  \n",
       "1645                                             No  \n",
       "1646                                            Yes  \n",
       "\n",
       "[95 rows x 19 columns]"
      ]
     },
     "execution_count": 79,
     "metadata": {},
     "output_type": "execute_result"
    }
   ],
   "source": [
    " dental = medicaid[(medicaid.Domain ==  'Dental and Oral Health Services')]\n",
    "dental "
   ]
  },
  {
   "cell_type": "markdown",
   "metadata": {},
   "source": [
    "## Use Cases and Visualization Task\n",
    "There are many ways to subset this dataset and our next task is determining the most practical usecases for this dataset. \n",
    "\n",
    "### Overview Across all Measure Types by State (View A)\n",
    "CMS has simple visualizations on this dataset where viewers are able to select a certain state and Measure name. However this feature requires multiple visualizations for one arbitraty state. Hence, a practical view that can compliment what is already available online is one that offers a 'snapshot' of each state by measure name so that a viewer can easily spot measure names where the state is falling behind or doing well on. \n",
    "\n",
    "TD# add example for both views \n",
    "\n",
    "### Overview Across all States by Measure  Type (View B) \n",
    "Another valuable view is one that can show a 'snapshot' of all the states relative to a specific measure type where the states are arranged in ascending or descending order. This way, viewers can see the group of states that are in the top, median and bottom quartiles in terms of state rate. "
   ]
  },
  {
   "cell_type": "markdown",
   "metadata": {},
   "source": [
    "## View A: Overview Across all Measure Types by State"
   ]
  },
  {
   "cell_type": "markdown",
   "metadata": {},
   "source": [
    "### Data Cleaning "
   ]
  },
  {
   "cell_type": "code",
   "execution_count": 80,
   "metadata": {},
   "outputs": [],
   "source": [
    "##import matplotlib.pyplot as plt"
   ]
  },
  {
   "cell_type": "code",
   "execution_count": 81,
   "metadata": {},
   "outputs": [],
   "source": [
    "##Drop cols we do not need\n",
    "viz_set= medicaid.drop(['Rate Definition', \n",
    "                        'FFY',\n",
    "                        'Population', \n",
    "                        'Methodology',\n",
    "                        'Number of States Reporting',\n",
    "                        'Notes',\n",
    "                        'Source', \n",
    "                        'State Specific Comments'\n",
    "                     ], axis=1)"
   ]
  },
  {
   "cell_type": "code",
   "execution_count": 82,
   "metadata": {},
   "outputs": [],
   "source": [
    "##rename cols so it is easier to ref later \n",
    "# trikes_by_species = strikes_by_species.rename(columns={'count': 'num_incidents', 'sum': 'num_incidents_with_damage', 'mean': 'pct_incidents_with_damage'})\n",
    "viz_set = viz_set.rename(columns={\n",
    "    'Reporting Program': 'ReportProg', \n",
    "    'Measure Name': 'MeasureName', \n",
    "    'Measure Abbreviation': 'MeasureAbbre', \n",
    "    'State Rate': 'StateRate', \n",
    "    'Bottom Quartile': 'Bottom', \n",
    "    'Top Quartile': 'Top'\n",
    "   })\n"
   ]
  },
  {
   "cell_type": "markdown",
   "metadata": {},
   "source": [
    "### Splicing each dataset "
   ]
  },
  {
   "cell_type": "code",
   "execution_count": 83,
   "metadata": {},
   "outputs": [],
   "source": [
    " Child_data = viz_set[(viz_set.ReportProg == 'Child Core Set')]"
   ]
  },
  {
   "cell_type": "code",
   "execution_count": 84,
   "metadata": {},
   "outputs": [],
   "source": [
    " Adult_data = viz_set[(viz_set.ReportProg == 'Adult Core Set')]"
   ]
  },
  {
   "cell_type": "code",
   "execution_count": 243,
   "metadata": {},
   "outputs": [],
   "source": [
    "state_list= viz_set['State'].unique().tolist()"
   ]
  },
  {
   "cell_type": "markdown",
   "metadata": {},
   "source": [
    "## TEST CODE FOR ABSTRACTIONS "
   ]
  },
  {
   "cell_type": "code",
   "execution_count": 304,
   "metadata": {},
   "outputs": [],
   "source": [
    "state_temp= ['Wyoming','Alabama']"
   ]
  },
  {
   "cell_type": "code",
   "execution_count": 305,
   "metadata": {},
   "outputs": [],
   "source": [
    "def state_divider(list1, df1):\n",
    "    ## outer loop takes state\n",
    "    length= len(list1)\n",
    "    for i in range(length): \n",
    "        #state_sets= pd.DataFrame()\n",
    "        # save name cur_state\n",
    "        cur_state = list1[i]\n",
    "        y= \"_set\"\n",
    "        state_name= cur_state+y\n",
    "        state_name = df1[(df1.State == cur_state)]\n",
    "        #frame= [state_name]\n",
    "        #state_sets=pd.concat(frame)   \n",
    "    return state_name"
   ]
  },
  {
   "cell_type": "code",
   "execution_count": 306,
   "metadata": {},
   "outputs": [
    {
     "data": {
      "text/html": [
       "<div>\n",
       "<style scoped>\n",
       "    .dataframe tbody tr th:only-of-type {\n",
       "        vertical-align: middle;\n",
       "    }\n",
       "\n",
       "    .dataframe tbody tr th {\n",
       "        vertical-align: top;\n",
       "    }\n",
       "\n",
       "    .dataframe thead th {\n",
       "        text-align: right;\n",
       "    }\n",
       "</style>\n",
       "<table border=\"1\" class=\"dataframe\">\n",
       "  <thead>\n",
       "    <tr style=\"text-align: right;\">\n",
       "      <th></th>\n",
       "      <th>State</th>\n",
       "      <th>Domain</th>\n",
       "      <th>ReportProg</th>\n",
       "      <th>MeasureName</th>\n",
       "      <th>MeasureAbbre</th>\n",
       "      <th>Measure Type</th>\n",
       "      <th>StateRate</th>\n",
       "      <th>Median</th>\n",
       "      <th>Bottom</th>\n",
       "      <th>Top</th>\n",
       "      <th>Rate Used in Calculating State Mean and Median</th>\n",
       "    </tr>\n",
       "  </thead>\n",
       "  <tbody>\n",
       "    <tr>\n",
       "      <th>1</th>\n",
       "      <td>Alabama</td>\n",
       "      <td>Behavioral Health Care</td>\n",
       "      <td>Child Core Set</td>\n",
       "      <td>Follow-Up After Hospitalization for Mental Ill...</td>\n",
       "      <td>FUH-CH</td>\n",
       "      <td>Higher rates are better for this measure</td>\n",
       "      <td>41.0</td>\n",
       "      <td>41.9</td>\n",
       "      <td>35.0</td>\n",
       "      <td>58.8</td>\n",
       "      <td>Yes</td>\n",
       "    </tr>\n",
       "    <tr>\n",
       "      <th>2</th>\n",
       "      <td>Alabama</td>\n",
       "      <td>Behavioral Health Care</td>\n",
       "      <td>Child Core Set</td>\n",
       "      <td>Follow-Up After Hospitalization for Mental Ill...</td>\n",
       "      <td>FUH-CH</td>\n",
       "      <td>Higher rates are better for this measure</td>\n",
       "      <td>65.8</td>\n",
       "      <td>66.3</td>\n",
       "      <td>58.6</td>\n",
       "      <td>79.5</td>\n",
       "      <td>Yes</td>\n",
       "    </tr>\n",
       "    <tr>\n",
       "      <th>5</th>\n",
       "      <td>Alabama</td>\n",
       "      <td>Behavioral Health Care</td>\n",
       "      <td>Child Core Set</td>\n",
       "      <td>Follow-Up After Hospitalization for Mental Ill...</td>\n",
       "      <td>FUH-CH</td>\n",
       "      <td>Higher rates are better for this measure</td>\n",
       "      <td>31.6</td>\n",
       "      <td>41.9</td>\n",
       "      <td>35.0</td>\n",
       "      <td>58.8</td>\n",
       "      <td>No</td>\n",
       "    </tr>\n",
       "    <tr>\n",
       "      <th>6</th>\n",
       "      <td>Alabama</td>\n",
       "      <td>Behavioral Health Care</td>\n",
       "      <td>Child Core Set</td>\n",
       "      <td>Follow-Up After Hospitalization for Mental Ill...</td>\n",
       "      <td>FUH-CH</td>\n",
       "      <td>Higher rates are better for this measure</td>\n",
       "      <td>50.6</td>\n",
       "      <td>66.3</td>\n",
       "      <td>58.6</td>\n",
       "      <td>79.5</td>\n",
       "      <td>No</td>\n",
       "    </tr>\n",
       "    <tr>\n",
       "      <th>7</th>\n",
       "      <td>Alabama</td>\n",
       "      <td>Behavioral Health Care</td>\n",
       "      <td>Child Core Set</td>\n",
       "      <td>Follow-Up Care for Children Prescribed Attenti...</td>\n",
       "      <td>ADD-CH</td>\n",
       "      <td>Higher rates are better for this measure</td>\n",
       "      <td>51.2</td>\n",
       "      <td>48.6</td>\n",
       "      <td>41.9</td>\n",
       "      <td>55.8</td>\n",
       "      <td>Yes</td>\n",
       "    </tr>\n",
       "    <tr>\n",
       "      <th>...</th>\n",
       "      <td>...</td>\n",
       "      <td>...</td>\n",
       "      <td>...</td>\n",
       "      <td>...</td>\n",
       "      <td>...</td>\n",
       "      <td>...</td>\n",
       "      <td>...</td>\n",
       "      <td>...</td>\n",
       "      <td>...</td>\n",
       "      <td>...</td>\n",
       "      <td>...</td>\n",
       "    </tr>\n",
       "    <tr>\n",
       "      <th>77</th>\n",
       "      <td>Alabama</td>\n",
       "      <td>Primary Care Access and Preventive Care</td>\n",
       "      <td>Child Core Set</td>\n",
       "      <td>Weight Assessment and Counseling for Nutrition...</td>\n",
       "      <td>WCC-CH</td>\n",
       "      <td>Higher rates are better for this measure</td>\n",
       "      <td>33.5</td>\n",
       "      <td>69.7</td>\n",
       "      <td>45.8</td>\n",
       "      <td>80.0</td>\n",
       "      <td>No</td>\n",
       "    </tr>\n",
       "    <tr>\n",
       "      <th>78</th>\n",
       "      <td>Alabama</td>\n",
       "      <td>Primary Care Access and Preventive Care</td>\n",
       "      <td>Child Core Set</td>\n",
       "      <td>Well-Child Visits in the First 15 Months of Life</td>\n",
       "      <td>W15-CH</td>\n",
       "      <td>Higher rates are better for this measure</td>\n",
       "      <td>65.5</td>\n",
       "      <td>64.0</td>\n",
       "      <td>57.3</td>\n",
       "      <td>69.7</td>\n",
       "      <td>Yes</td>\n",
       "    </tr>\n",
       "    <tr>\n",
       "      <th>79</th>\n",
       "      <td>Alabama</td>\n",
       "      <td>Primary Care Access and Preventive Care</td>\n",
       "      <td>Child Core Set</td>\n",
       "      <td>Well-Child Visits in the First 15 Months of Life</td>\n",
       "      <td>W15-CH</td>\n",
       "      <td>Higher rates are better for this measure</td>\n",
       "      <td>77.4</td>\n",
       "      <td>64.0</td>\n",
       "      <td>57.3</td>\n",
       "      <td>69.7</td>\n",
       "      <td>No</td>\n",
       "    </tr>\n",
       "    <tr>\n",
       "      <th>80</th>\n",
       "      <td>Alabama</td>\n",
       "      <td>Primary Care Access and Preventive Care</td>\n",
       "      <td>Child Core Set</td>\n",
       "      <td>Well-Child Visits in the Third, Fourth, Fifth,...</td>\n",
       "      <td>W34-CH</td>\n",
       "      <td>Higher rates are better for this measure</td>\n",
       "      <td>64.6</td>\n",
       "      <td>69.0</td>\n",
       "      <td>61.8</td>\n",
       "      <td>74.3</td>\n",
       "      <td>Yes</td>\n",
       "    </tr>\n",
       "    <tr>\n",
       "      <th>81</th>\n",
       "      <td>Alabama</td>\n",
       "      <td>Primary Care Access and Preventive Care</td>\n",
       "      <td>Child Core Set</td>\n",
       "      <td>Well-Child Visits in the Third, Fourth, Fifth,...</td>\n",
       "      <td>W34-CH</td>\n",
       "      <td>Higher rates are better for this measure</td>\n",
       "      <td>64.1</td>\n",
       "      <td>69.0</td>\n",
       "      <td>61.8</td>\n",
       "      <td>74.3</td>\n",
       "      <td>No</td>\n",
       "    </tr>\n",
       "  </tbody>\n",
       "</table>\n",
       "<p>67 rows × 11 columns</p>\n",
       "</div>"
      ],
      "text/plain": [
       "      State                                   Domain      ReportProg  \\\n",
       "1   Alabama                   Behavioral Health Care  Child Core Set   \n",
       "2   Alabama                   Behavioral Health Care  Child Core Set   \n",
       "5   Alabama                   Behavioral Health Care  Child Core Set   \n",
       "6   Alabama                   Behavioral Health Care  Child Core Set   \n",
       "7   Alabama                   Behavioral Health Care  Child Core Set   \n",
       "..      ...                                      ...             ...   \n",
       "77  Alabama  Primary Care Access and Preventive Care  Child Core Set   \n",
       "78  Alabama  Primary Care Access and Preventive Care  Child Core Set   \n",
       "79  Alabama  Primary Care Access and Preventive Care  Child Core Set   \n",
       "80  Alabama  Primary Care Access and Preventive Care  Child Core Set   \n",
       "81  Alabama  Primary Care Access and Preventive Care  Child Core Set   \n",
       "\n",
       "                                          MeasureName MeasureAbbre  \\\n",
       "1   Follow-Up After Hospitalization for Mental Ill...       FUH-CH   \n",
       "2   Follow-Up After Hospitalization for Mental Ill...       FUH-CH   \n",
       "5   Follow-Up After Hospitalization for Mental Ill...       FUH-CH   \n",
       "6   Follow-Up After Hospitalization for Mental Ill...       FUH-CH   \n",
       "7   Follow-Up Care for Children Prescribed Attenti...       ADD-CH   \n",
       "..                                                ...          ...   \n",
       "77  Weight Assessment and Counseling for Nutrition...       WCC-CH   \n",
       "78   Well-Child Visits in the First 15 Months of Life       W15-CH   \n",
       "79   Well-Child Visits in the First 15 Months of Life       W15-CH   \n",
       "80  Well-Child Visits in the Third, Fourth, Fifth,...       W34-CH   \n",
       "81  Well-Child Visits in the Third, Fourth, Fifth,...       W34-CH   \n",
       "\n",
       "                                Measure Type StateRate  Median  Bottom   Top  \\\n",
       "1   Higher rates are better for this measure      41.0    41.9    35.0  58.8   \n",
       "2   Higher rates are better for this measure      65.8    66.3    58.6  79.5   \n",
       "5   Higher rates are better for this measure      31.6    41.9    35.0  58.8   \n",
       "6   Higher rates are better for this measure      50.6    66.3    58.6  79.5   \n",
       "7   Higher rates are better for this measure      51.2    48.6    41.9  55.8   \n",
       "..                                       ...       ...     ...     ...   ...   \n",
       "77  Higher rates are better for this measure      33.5    69.7    45.8  80.0   \n",
       "78  Higher rates are better for this measure      65.5    64.0    57.3  69.7   \n",
       "79  Higher rates are better for this measure      77.4    64.0    57.3  69.7   \n",
       "80  Higher rates are better for this measure      64.6    69.0    61.8  74.3   \n",
       "81  Higher rates are better for this measure      64.1    69.0    61.8  74.3   \n",
       "\n",
       "   Rate Used in Calculating State Mean and Median  \n",
       "1                                             Yes  \n",
       "2                                             Yes  \n",
       "5                                              No  \n",
       "6                                              No  \n",
       "7                                             Yes  \n",
       "..                                            ...  \n",
       "77                                             No  \n",
       "78                                            Yes  \n",
       "79                                             No  \n",
       "80                                            Yes  \n",
       "81                                             No  \n",
       "\n",
       "[67 rows x 11 columns]"
      ]
     },
     "execution_count": 306,
     "metadata": {},
     "output_type": "execute_result"
    }
   ],
   "source": [
    "state_set= state_divider(state_temp,Child_data)\n",
    "state_set"
   ]
  },
  {
   "cell_type": "code",
   "execution_count": 319,
   "metadata": {},
   "outputs": [],
   "source": [
    "def domain_divider(df2):\n",
    "    dom_list=df2['Domain'].unique().tolist()\n",
    "    ## somehow take state name save as cur_state\n",
    "    length1= len(dom_list)\n",
    "    for i in range(length1):\n",
    "        cur_dom= dom_list[i]\n",
    "        cur_state= df2.State.unique()\n",
    "        name= cur_state+\"_\"+cur_dom\n",
    "        name= df2[(df2.Domain == cur_dom)]\n",
    "        #CA_BHC = CA_BHC.drop_duplicates(subset=['MeasureName'],keep= 'first')\n",
    "        name= name.drop_duplicates(subset=['MeasureName'],keep= 'first')\n",
    "        name=name.sort_values(by=['StateRate'], ascending=True)\n",
    "    return name   \n",
    "       \n",
    "       "
   ]
  },
  {
   "cell_type": "code",
   "execution_count": 308,
   "metadata": {},
   "outputs": [
    {
     "data": {
      "text/html": [
       "<div>\n",
       "<style scoped>\n",
       "    .dataframe tbody tr th:only-of-type {\n",
       "        vertical-align: middle;\n",
       "    }\n",
       "\n",
       "    .dataframe tbody tr th {\n",
       "        vertical-align: top;\n",
       "    }\n",
       "\n",
       "    .dataframe thead th {\n",
       "        text-align: right;\n",
       "    }\n",
       "</style>\n",
       "<table border=\"1\" class=\"dataframe\">\n",
       "  <thead>\n",
       "    <tr style=\"text-align: right;\">\n",
       "      <th></th>\n",
       "      <th>State</th>\n",
       "      <th>Domain</th>\n",
       "      <th>ReportProg</th>\n",
       "      <th>MeasureName</th>\n",
       "      <th>MeasureAbbre</th>\n",
       "      <th>Measure Type</th>\n",
       "      <th>StateRate</th>\n",
       "      <th>Median</th>\n",
       "      <th>Bottom</th>\n",
       "      <th>Top</th>\n",
       "      <th>Rate Used in Calculating State Mean and Median</th>\n",
       "    </tr>\n",
       "  </thead>\n",
       "  <tbody>\n",
       "    <tr>\n",
       "      <th>181</th>\n",
       "      <td>California</td>\n",
       "      <td>Primary Care Access and Preventive Care</td>\n",
       "      <td>Child Core Set</td>\n",
       "      <td>Adolescent Well-Care Visits: Ages 12 to 21</td>\n",
       "      <td>AWC-CH</td>\n",
       "      <td>Higher rates are better for this measure</td>\n",
       "      <td>37.4</td>\n",
       "      <td>50.6</td>\n",
       "      <td>41.7</td>\n",
       "      <td>56.7</td>\n",
       "      <td>Yes</td>\n",
       "    </tr>\n",
       "    <tr>\n",
       "      <th>182</th>\n",
       "      <td>California</td>\n",
       "      <td>Primary Care Access and Preventive Care</td>\n",
       "      <td>Child Core Set</td>\n",
       "      <td>Childhood Immunization Status: Age 2</td>\n",
       "      <td>CIS-CH</td>\n",
       "      <td>Higher rates are better for this measure</td>\n",
       "      <td>89.3</td>\n",
       "      <td>87.6</td>\n",
       "      <td>85.9</td>\n",
       "      <td>89.5</td>\n",
       "      <td>Yes</td>\n",
       "    </tr>\n",
       "    <tr>\n",
       "      <th>183</th>\n",
       "      <td>California</td>\n",
       "      <td>Primary Care Access and Preventive Care</td>\n",
       "      <td>Child Core Set</td>\n",
       "      <td>Childhood Immunization Status: Age 2</td>\n",
       "      <td>CIS-CH</td>\n",
       "      <td>Higher rates are better for this measure</td>\n",
       "      <td>70.7</td>\n",
       "      <td>68.8</td>\n",
       "      <td>63.1</td>\n",
       "      <td>72.3</td>\n",
       "      <td>Yes</td>\n",
       "    </tr>\n",
       "    <tr>\n",
       "      <th>184</th>\n",
       "      <td>California</td>\n",
       "      <td>Primary Care Access and Preventive Care</td>\n",
       "      <td>Child Core Set</td>\n",
       "      <td>Children and Adolescents' Access to Primary Ca...</td>\n",
       "      <td>CAP-CH</td>\n",
       "      <td>Higher rates are better for this measure</td>\n",
       "      <td>91.7</td>\n",
       "      <td>95.5</td>\n",
       "      <td>94.4</td>\n",
       "      <td>96.6</td>\n",
       "      <td>Yes</td>\n",
       "    </tr>\n",
       "    <tr>\n",
       "      <th>185</th>\n",
       "      <td>California</td>\n",
       "      <td>Primary Care Access and Preventive Care</td>\n",
       "      <td>Child Core Set</td>\n",
       "      <td>Children and Adolescents' Access to Primary Ca...</td>\n",
       "      <td>CAP-CH</td>\n",
       "      <td>Higher rates are better for this measure</td>\n",
       "      <td>83.6</td>\n",
       "      <td>87.7</td>\n",
       "      <td>85.7</td>\n",
       "      <td>90.1</td>\n",
       "      <td>Yes</td>\n",
       "    </tr>\n",
       "    <tr>\n",
       "      <th>186</th>\n",
       "      <td>California</td>\n",
       "      <td>Primary Care Access and Preventive Care</td>\n",
       "      <td>Child Core Set</td>\n",
       "      <td>Children and Adolescents' Access to Primary Ca...</td>\n",
       "      <td>CAP-CH</td>\n",
       "      <td>Higher rates are better for this measure</td>\n",
       "      <td>87.3</td>\n",
       "      <td>91.1</td>\n",
       "      <td>89.1</td>\n",
       "      <td>93.6</td>\n",
       "      <td>Yes</td>\n",
       "    </tr>\n",
       "    <tr>\n",
       "      <th>187</th>\n",
       "      <td>California</td>\n",
       "      <td>Primary Care Access and Preventive Care</td>\n",
       "      <td>Child Core Set</td>\n",
       "      <td>Children and Adolescents' Access to Primary Ca...</td>\n",
       "      <td>CAP-CH</td>\n",
       "      <td>Higher rates are better for this measure</td>\n",
       "      <td>85.1</td>\n",
       "      <td>90.3</td>\n",
       "      <td>88.2</td>\n",
       "      <td>92.7</td>\n",
       "      <td>Yes</td>\n",
       "    </tr>\n",
       "    <tr>\n",
       "      <th>188</th>\n",
       "      <td>California</td>\n",
       "      <td>Primary Care Access and Preventive Care</td>\n",
       "      <td>Child Core Set</td>\n",
       "      <td>Chlamydia Screening in Women Ages 16 to 20</td>\n",
       "      <td>CHL-CH</td>\n",
       "      <td>Higher rates are better for this measure</td>\n",
       "      <td>58.3</td>\n",
       "      <td>49.9</td>\n",
       "      <td>44.7</td>\n",
       "      <td>58.3</td>\n",
       "      <td>Yes</td>\n",
       "    </tr>\n",
       "    <tr>\n",
       "      <th>189</th>\n",
       "      <td>California</td>\n",
       "      <td>Primary Care Access and Preventive Care</td>\n",
       "      <td>Child Core Set</td>\n",
       "      <td>Developmental Screening in the First Three Yea...</td>\n",
       "      <td>DEV-CH</td>\n",
       "      <td>Higher rates are better for this measure</td>\n",
       "      <td>21.8</td>\n",
       "      <td>32.7</td>\n",
       "      <td>21.8</td>\n",
       "      <td>54.0</td>\n",
       "      <td>Yes</td>\n",
       "    </tr>\n",
       "    <tr>\n",
       "      <th>190</th>\n",
       "      <td>California</td>\n",
       "      <td>Primary Care Access and Preventive Care</td>\n",
       "      <td>Child Core Set</td>\n",
       "      <td>Immunizations for Adolescents: Age 13</td>\n",
       "      <td>IMA-CH</td>\n",
       "      <td>Higher rates are better for this measure</td>\n",
       "      <td>44.6</td>\n",
       "      <td>34.4</td>\n",
       "      <td>30.5</td>\n",
       "      <td>39.5</td>\n",
       "      <td>Yes</td>\n",
       "    </tr>\n",
       "    <tr>\n",
       "      <th>191</th>\n",
       "      <td>California</td>\n",
       "      <td>Primary Care Access and Preventive Care</td>\n",
       "      <td>Child Core Set</td>\n",
       "      <td>Immunizations for Adolescents: Age 13</td>\n",
       "      <td>IMA-CH</td>\n",
       "      <td>Higher rates are better for this measure</td>\n",
       "      <td>NR</td>\n",
       "      <td>78.6</td>\n",
       "      <td>66.7</td>\n",
       "      <td>85.3</td>\n",
       "      <td>Yes</td>\n",
       "    </tr>\n",
       "    <tr>\n",
       "      <th>192</th>\n",
       "      <td>California</td>\n",
       "      <td>Primary Care Access and Preventive Care</td>\n",
       "      <td>Child Core Set</td>\n",
       "      <td>Well-Child Visits in the Third, Fourth, Fifth,...</td>\n",
       "      <td>W34-CH</td>\n",
       "      <td>Higher rates are better for this measure</td>\n",
       "      <td>71.4</td>\n",
       "      <td>69.0</td>\n",
       "      <td>61.8</td>\n",
       "      <td>74.3</td>\n",
       "      <td>Yes</td>\n",
       "    </tr>\n",
       "    <tr>\n",
       "      <th>1819</th>\n",
       "      <td>California</td>\n",
       "      <td>Primary Care Access and Preventive Care</td>\n",
       "      <td>Adult Core Set</td>\n",
       "      <td>Breast Cancer Screening: Ages 50 to 74</td>\n",
       "      <td>BCS-AD</td>\n",
       "      <td>Higher rates are better for this measure</td>\n",
       "      <td>56.7</td>\n",
       "      <td>53.4</td>\n",
       "      <td>49.1</td>\n",
       "      <td>59.1</td>\n",
       "      <td>Yes</td>\n",
       "    </tr>\n",
       "    <tr>\n",
       "      <th>1820</th>\n",
       "      <td>California</td>\n",
       "      <td>Primary Care Access and Preventive Care</td>\n",
       "      <td>Adult Core Set</td>\n",
       "      <td>Cervical Cancer Screening: Ages 21 to 64</td>\n",
       "      <td>CCS-AD</td>\n",
       "      <td>Higher rates are better for this measure</td>\n",
       "      <td>58.0</td>\n",
       "      <td>55.1</td>\n",
       "      <td>48.4</td>\n",
       "      <td>61.3</td>\n",
       "      <td>Yes</td>\n",
       "    </tr>\n",
       "    <tr>\n",
       "      <th>1821</th>\n",
       "      <td>California</td>\n",
       "      <td>Primary Care Access and Preventive Care</td>\n",
       "      <td>Adult Core Set</td>\n",
       "      <td>Chlamydia Screening in Women Ages 21 to 24</td>\n",
       "      <td>CHL-AD</td>\n",
       "      <td>Higher rates are better for this measure</td>\n",
       "      <td>65.2</td>\n",
       "      <td>60.2</td>\n",
       "      <td>55.1</td>\n",
       "      <td>65.2</td>\n",
       "      <td>Yes</td>\n",
       "    </tr>\n",
       "  </tbody>\n",
       "</table>\n",
       "</div>"
      ],
      "text/plain": [
       "           State                                   Domain      ReportProg  \\\n",
       "181   California  Primary Care Access and Preventive Care  Child Core Set   \n",
       "182   California  Primary Care Access and Preventive Care  Child Core Set   \n",
       "183   California  Primary Care Access and Preventive Care  Child Core Set   \n",
       "184   California  Primary Care Access and Preventive Care  Child Core Set   \n",
       "185   California  Primary Care Access and Preventive Care  Child Core Set   \n",
       "186   California  Primary Care Access and Preventive Care  Child Core Set   \n",
       "187   California  Primary Care Access and Preventive Care  Child Core Set   \n",
       "188   California  Primary Care Access and Preventive Care  Child Core Set   \n",
       "189   California  Primary Care Access and Preventive Care  Child Core Set   \n",
       "190   California  Primary Care Access and Preventive Care  Child Core Set   \n",
       "191   California  Primary Care Access and Preventive Care  Child Core Set   \n",
       "192   California  Primary Care Access and Preventive Care  Child Core Set   \n",
       "1819  California  Primary Care Access and Preventive Care  Adult Core Set   \n",
       "1820  California  Primary Care Access and Preventive Care  Adult Core Set   \n",
       "1821  California  Primary Care Access and Preventive Care  Adult Core Set   \n",
       "\n",
       "                                            MeasureName MeasureAbbre  \\\n",
       "181          Adolescent Well-Care Visits: Ages 12 to 21       AWC-CH   \n",
       "182                Childhood Immunization Status: Age 2       CIS-CH   \n",
       "183                Childhood Immunization Status: Age 2       CIS-CH   \n",
       "184   Children and Adolescents' Access to Primary Ca...       CAP-CH   \n",
       "185   Children and Adolescents' Access to Primary Ca...       CAP-CH   \n",
       "186   Children and Adolescents' Access to Primary Ca...       CAP-CH   \n",
       "187   Children and Adolescents' Access to Primary Ca...       CAP-CH   \n",
       "188          Chlamydia Screening in Women Ages 16 to 20       CHL-CH   \n",
       "189   Developmental Screening in the First Three Yea...       DEV-CH   \n",
       "190               Immunizations for Adolescents: Age 13       IMA-CH   \n",
       "191               Immunizations for Adolescents: Age 13       IMA-CH   \n",
       "192   Well-Child Visits in the Third, Fourth, Fifth,...       W34-CH   \n",
       "1819             Breast Cancer Screening: Ages 50 to 74       BCS-AD   \n",
       "1820           Cervical Cancer Screening: Ages 21 to 64       CCS-AD   \n",
       "1821         Chlamydia Screening in Women Ages 21 to 24       CHL-AD   \n",
       "\n",
       "                                  Measure Type StateRate  Median  Bottom  \\\n",
       "181   Higher rates are better for this measure      37.4    50.6    41.7   \n",
       "182   Higher rates are better for this measure      89.3    87.6    85.9   \n",
       "183   Higher rates are better for this measure      70.7    68.8    63.1   \n",
       "184   Higher rates are better for this measure      91.7    95.5    94.4   \n",
       "185   Higher rates are better for this measure      83.6    87.7    85.7   \n",
       "186   Higher rates are better for this measure      87.3    91.1    89.1   \n",
       "187   Higher rates are better for this measure      85.1    90.3    88.2   \n",
       "188   Higher rates are better for this measure      58.3    49.9    44.7   \n",
       "189   Higher rates are better for this measure      21.8    32.7    21.8   \n",
       "190   Higher rates are better for this measure      44.6    34.4    30.5   \n",
       "191   Higher rates are better for this measure        NR    78.6    66.7   \n",
       "192   Higher rates are better for this measure      71.4    69.0    61.8   \n",
       "1819  Higher rates are better for this measure      56.7    53.4    49.1   \n",
       "1820  Higher rates are better for this measure      58.0    55.1    48.4   \n",
       "1821  Higher rates are better for this measure      65.2    60.2    55.1   \n",
       "\n",
       "       Top Rate Used in Calculating State Mean and Median  \n",
       "181   56.7                                            Yes  \n",
       "182   89.5                                            Yes  \n",
       "183   72.3                                            Yes  \n",
       "184   96.6                                            Yes  \n",
       "185   90.1                                            Yes  \n",
       "186   93.6                                            Yes  \n",
       "187   92.7                                            Yes  \n",
       "188   58.3                                            Yes  \n",
       "189   54.0                                            Yes  \n",
       "190   39.5                                            Yes  \n",
       "191   85.3                                            Yes  \n",
       "192   74.3                                            Yes  \n",
       "1819  59.1                                            Yes  \n",
       "1820  61.3                                            Yes  \n",
       "1821  65.2                                            Yes  "
      ]
     },
     "execution_count": 308,
     "metadata": {},
     "output_type": "execute_result"
    }
   ],
   "source": [
    "domain_divider(CA)"
   ]
  },
  {
   "cell_type": "code",
   "execution_count": 315,
   "metadata": {},
   "outputs": [],
   "source": [
    "def visualizer(df3):\n",
    "    state=df3['State'].unique().tolist()\n",
    "    state=state[0].tostring()\n",
    "    dom= df3['State'].unique().tolist()\n",
    "    dom=dom[0].tostring()\n",
    "    fig = px.bar(df3, \n",
    "             y='MeasureName',\n",
    "             x='StateRate',\n",
    "             hover_name=\"Measure Type\", \n",
    "             hover_data=['Top','Median','Bottom'],\n",
    "             orientation='h',\n",
    "             width= 2000 \n",
    "            \n",
    "            )\n",
    "\n",
    "    fig.update_layout(\n",
    "    title={\n",
    "        'text': state+' Measures in '+dom,\n",
    "        'y':0.95,\n",
    "        'x':0.7,\n",
    "        'xanchor': 'center',\n",
    "        'yanchor': 'top'},\n",
    "    xaxis_title=\"State Rate\",\n",
    "    yaxis_title=\"Measure Names\",\n",
    "     font=dict(\n",
    "        family=\"Arial\",\n",
    "        size=18,\n",
    "        color=\"Black\"\n",
    "       ))\n",
    "##fig.update_xaxes(range=[0, 80],tick0=0, dtick=10)\n",
    "    fig.show()"
   ]
  },
  {
   "cell_type": "markdown",
   "metadata": {},
   "source": [
    "## Test Datasets "
   ]
  },
  {
   "cell_type": "code",
   "execution_count": 219,
   "metadata": {},
   "outputs": [
    {
     "data": {
      "text/plain": [
       "(69, 11)"
      ]
     },
     "execution_count": 219,
     "metadata": {},
     "output_type": "execute_result"
    }
   ],
   "source": [
    "CA = viz_set[(viz_set.State == 'California')]\n",
    "CA.shape"
   ]
  },
  {
   "cell_type": "code",
   "execution_count": 89,
   "metadata": {},
   "outputs": [],
   "source": [
    "#medicaid[(medicaid.State == 'California')]\n",
    "CA_CS= CA[(CA.ReportProg =='Child Core Set')]"
   ]
  },
  {
   "cell_type": "code",
   "execution_count": 234,
   "metadata": {},
   "outputs": [
    {
     "name": "stdout",
     "output_type": "stream",
     "text": [
      "Care of Acute and Chronic Conditions\n"
     ]
    }
   ],
   "source": [
    "dom_list=CA['Domain'].unique().tolist()\n",
    "isinstance(dom_list,list)\n",
    "print (dom_list[1])"
   ]
  },
  {
   "cell_type": "code",
   "execution_count": 92,
   "metadata": {
    "scrolled": false
   },
   "outputs": [
    {
     "data": {
      "text/html": [
       "<div>\n",
       "<style scoped>\n",
       "    .dataframe tbody tr th:only-of-type {\n",
       "        vertical-align: middle;\n",
       "    }\n",
       "\n",
       "    .dataframe tbody tr th {\n",
       "        vertical-align: top;\n",
       "    }\n",
       "\n",
       "    .dataframe thead th {\n",
       "        text-align: right;\n",
       "    }\n",
       "</style>\n",
       "<table border=\"1\" class=\"dataframe\">\n",
       "  <thead>\n",
       "    <tr style=\"text-align: right;\">\n",
       "      <th></th>\n",
       "      <th>State</th>\n",
       "      <th>Domain</th>\n",
       "      <th>ReportProg</th>\n",
       "      <th>MeasureName</th>\n",
       "      <th>MeasureAbbre</th>\n",
       "      <th>Measure Type</th>\n",
       "      <th>StateRate</th>\n",
       "      <th>Median</th>\n",
       "      <th>Bottom</th>\n",
       "      <th>Top</th>\n",
       "      <th>Rate Used in Calculating State Mean and Median</th>\n",
       "    </tr>\n",
       "  </thead>\n",
       "  <tbody>\n",
       "    <tr>\n",
       "      <th>161</th>\n",
       "      <td>California</td>\n",
       "      <td>Behavioral Health Care</td>\n",
       "      <td>Child Core Set</td>\n",
       "      <td>Follow-Up After Hospitalization for Mental Ill...</td>\n",
       "      <td>FUH-CH</td>\n",
       "      <td>Higher rates are better for this measure</td>\n",
       "      <td>71.2</td>\n",
       "      <td>41.9</td>\n",
       "      <td>35.0</td>\n",
       "      <td>58.8</td>\n",
       "      <td>Yes</td>\n",
       "    </tr>\n",
       "    <tr>\n",
       "      <th>162</th>\n",
       "      <td>California</td>\n",
       "      <td>Behavioral Health Care</td>\n",
       "      <td>Child Core Set</td>\n",
       "      <td>Follow-Up After Hospitalization for Mental Ill...</td>\n",
       "      <td>FUH-CH</td>\n",
       "      <td>Higher rates are better for this measure</td>\n",
       "      <td>83.7</td>\n",
       "      <td>66.3</td>\n",
       "      <td>58.6</td>\n",
       "      <td>79.5</td>\n",
       "      <td>Yes</td>\n",
       "    </tr>\n",
       "    <tr>\n",
       "      <th>163</th>\n",
       "      <td>California</td>\n",
       "      <td>Behavioral Health Care</td>\n",
       "      <td>Child Core Set</td>\n",
       "      <td>Follow-Up Care for Children Prescribed Attenti...</td>\n",
       "      <td>ADD-CH</td>\n",
       "      <td>Higher rates are better for this measure</td>\n",
       "      <td>45.6</td>\n",
       "      <td>48.6</td>\n",
       "      <td>41.9</td>\n",
       "      <td>55.8</td>\n",
       "      <td>Yes</td>\n",
       "    </tr>\n",
       "    <tr>\n",
       "      <th>164</th>\n",
       "      <td>California</td>\n",
       "      <td>Behavioral Health Care</td>\n",
       "      <td>Child Core Set</td>\n",
       "      <td>Follow-Up Care for Children Prescribed Attenti...</td>\n",
       "      <td>ADD-CH</td>\n",
       "      <td>Higher rates are better for this measure</td>\n",
       "      <td>56.0</td>\n",
       "      <td>58.6</td>\n",
       "      <td>52.0</td>\n",
       "      <td>67.3</td>\n",
       "      <td>Yes</td>\n",
       "    </tr>\n",
       "    <tr>\n",
       "      <th>165</th>\n",
       "      <td>California</td>\n",
       "      <td>Behavioral Health Care</td>\n",
       "      <td>Child Core Set</td>\n",
       "      <td>Use of First-Line Psychosocial Care for Childr...</td>\n",
       "      <td>APP-CH</td>\n",
       "      <td>Higher rates are better for this measure</td>\n",
       "      <td>61.6</td>\n",
       "      <td>62.8</td>\n",
       "      <td>57.2</td>\n",
       "      <td>69.4</td>\n",
       "      <td>Yes</td>\n",
       "    </tr>\n",
       "    <tr>\n",
       "      <th>166</th>\n",
       "      <td>California</td>\n",
       "      <td>Behavioral Health Care</td>\n",
       "      <td>Child Core Set</td>\n",
       "      <td>Use of Multiple Concurrent Antipsychotics in C...</td>\n",
       "      <td>APC-CH</td>\n",
       "      <td>Lower rates are better for this measure</td>\n",
       "      <td>3.0</td>\n",
       "      <td>2.6</td>\n",
       "      <td>3.5</td>\n",
       "      <td>1.7</td>\n",
       "      <td>Yes</td>\n",
       "    </tr>\n",
       "  </tbody>\n",
       "</table>\n",
       "</div>"
      ],
      "text/plain": [
       "          State                  Domain      ReportProg  \\\n",
       "161  California  Behavioral Health Care  Child Core Set   \n",
       "162  California  Behavioral Health Care  Child Core Set   \n",
       "163  California  Behavioral Health Care  Child Core Set   \n",
       "164  California  Behavioral Health Care  Child Core Set   \n",
       "165  California  Behavioral Health Care  Child Core Set   \n",
       "166  California  Behavioral Health Care  Child Core Set   \n",
       "\n",
       "                                           MeasureName MeasureAbbre  \\\n",
       "161  Follow-Up After Hospitalization for Mental Ill...       FUH-CH   \n",
       "162  Follow-Up After Hospitalization for Mental Ill...       FUH-CH   \n",
       "163  Follow-Up Care for Children Prescribed Attenti...       ADD-CH   \n",
       "164  Follow-Up Care for Children Prescribed Attenti...       ADD-CH   \n",
       "165  Use of First-Line Psychosocial Care for Childr...       APP-CH   \n",
       "166  Use of Multiple Concurrent Antipsychotics in C...       APC-CH   \n",
       "\n",
       "                                 Measure Type StateRate  Median  Bottom   Top  \\\n",
       "161  Higher rates are better for this measure      71.2    41.9    35.0  58.8   \n",
       "162  Higher rates are better for this measure      83.7    66.3    58.6  79.5   \n",
       "163  Higher rates are better for this measure      45.6    48.6    41.9  55.8   \n",
       "164  Higher rates are better for this measure      56.0    58.6    52.0  67.3   \n",
       "165  Higher rates are better for this measure      61.6    62.8    57.2  69.4   \n",
       "166   Lower rates are better for this measure       3.0     2.6     3.5   1.7   \n",
       "\n",
       "    Rate Used in Calculating State Mean and Median  \n",
       "161                                            Yes  \n",
       "162                                            Yes  \n",
       "163                                            Yes  \n",
       "164                                            Yes  \n",
       "165                                            Yes  \n",
       "166                                            Yes  "
      ]
     },
     "execution_count": 92,
     "metadata": {},
     "output_type": "execute_result"
    }
   ],
   "source": [
    "CA_BHC = CA_CS[(CA_CS.Domain == 'Behavioral Health Care')]\n",
    "CA_BHC"
   ]
  },
  {
   "cell_type": "code",
   "execution_count": 93,
   "metadata": {},
   "outputs": [
    {
     "data": {
      "text/html": [
       "<div>\n",
       "<style scoped>\n",
       "    .dataframe tbody tr th:only-of-type {\n",
       "        vertical-align: middle;\n",
       "    }\n",
       "\n",
       "    .dataframe tbody tr th {\n",
       "        vertical-align: top;\n",
       "    }\n",
       "\n",
       "    .dataframe thead th {\n",
       "        text-align: right;\n",
       "    }\n",
       "</style>\n",
       "<table border=\"1\" class=\"dataframe\">\n",
       "  <thead>\n",
       "    <tr style=\"text-align: right;\">\n",
       "      <th></th>\n",
       "      <th>State</th>\n",
       "      <th>Domain</th>\n",
       "      <th>ReportProg</th>\n",
       "      <th>MeasureName</th>\n",
       "      <th>MeasureAbbre</th>\n",
       "      <th>Measure Type</th>\n",
       "      <th>StateRate</th>\n",
       "      <th>Median</th>\n",
       "      <th>Bottom</th>\n",
       "      <th>Top</th>\n",
       "      <th>Rate Used in Calculating State Mean and Median</th>\n",
       "    </tr>\n",
       "  </thead>\n",
       "  <tbody>\n",
       "    <tr>\n",
       "      <th>167</th>\n",
       "      <td>California</td>\n",
       "      <td>Care of Acute and Chronic Conditions</td>\n",
       "      <td>Child Core Set</td>\n",
       "      <td>Ambulatory Care: Emergency Department (ED) Vis...</td>\n",
       "      <td>AMB-CH</td>\n",
       "      <td>Lower rates are better for this measure</td>\n",
       "      <td>33.0</td>\n",
       "      <td>43.6</td>\n",
       "      <td>50.1</td>\n",
       "      <td>37.0</td>\n",
       "      <td>Yes</td>\n",
       "    </tr>\n",
       "    <tr>\n",
       "      <th>168</th>\n",
       "      <td>California</td>\n",
       "      <td>Care of Acute and Chronic Conditions</td>\n",
       "      <td>Child Core Set</td>\n",
       "      <td>Asthma Medication Ratio: Ages 5 to 18</td>\n",
       "      <td>AMR-CH</td>\n",
       "      <td>Higher rates are better for this measure</td>\n",
       "      <td>71.0</td>\n",
       "      <td>72.8</td>\n",
       "      <td>67.9</td>\n",
       "      <td>79.1</td>\n",
       "      <td>Yes</td>\n",
       "    </tr>\n",
       "    <tr>\n",
       "      <th>169</th>\n",
       "      <td>California</td>\n",
       "      <td>Care of Acute and Chronic Conditions</td>\n",
       "      <td>Child Core Set</td>\n",
       "      <td>Asthma Medication Ratio: Ages 5 to 18</td>\n",
       "      <td>AMR-CH</td>\n",
       "      <td>Higher rates are better for this measure</td>\n",
       "      <td>64.2</td>\n",
       "      <td>64.6</td>\n",
       "      <td>59.9</td>\n",
       "      <td>68.7</td>\n",
       "      <td>Yes</td>\n",
       "    </tr>\n",
       "    <tr>\n",
       "      <th>170</th>\n",
       "      <td>California</td>\n",
       "      <td>Care of Acute and Chronic Conditions</td>\n",
       "      <td>Child Core Set</td>\n",
       "      <td>Asthma Medication Ratio: Ages 5 to 18</td>\n",
       "      <td>AMR-CH</td>\n",
       "      <td>Higher rates are better for this measure</td>\n",
       "      <td>68.2</td>\n",
       "      <td>69.4</td>\n",
       "      <td>65.6</td>\n",
       "      <td>74.0</td>\n",
       "      <td>Yes</td>\n",
       "    </tr>\n",
       "  </tbody>\n",
       "</table>\n",
       "</div>"
      ],
      "text/plain": [
       "          State                                Domain      ReportProg  \\\n",
       "167  California  Care of Acute and Chronic Conditions  Child Core Set   \n",
       "168  California  Care of Acute and Chronic Conditions  Child Core Set   \n",
       "169  California  Care of Acute and Chronic Conditions  Child Core Set   \n",
       "170  California  Care of Acute and Chronic Conditions  Child Core Set   \n",
       "\n",
       "                                           MeasureName MeasureAbbre  \\\n",
       "167  Ambulatory Care: Emergency Department (ED) Vis...       AMB-CH   \n",
       "168              Asthma Medication Ratio: Ages 5 to 18       AMR-CH   \n",
       "169              Asthma Medication Ratio: Ages 5 to 18       AMR-CH   \n",
       "170              Asthma Medication Ratio: Ages 5 to 18       AMR-CH   \n",
       "\n",
       "                                 Measure Type StateRate  Median  Bottom   Top  \\\n",
       "167   Lower rates are better for this measure      33.0    43.6    50.1  37.0   \n",
       "168  Higher rates are better for this measure      71.0    72.8    67.9  79.1   \n",
       "169  Higher rates are better for this measure      64.2    64.6    59.9  68.7   \n",
       "170  Higher rates are better for this measure      68.2    69.4    65.6  74.0   \n",
       "\n",
       "    Rate Used in Calculating State Mean and Median  \n",
       "167                                            Yes  \n",
       "168                                            Yes  \n",
       "169                                            Yes  \n",
       "170                                            Yes  "
      ]
     },
     "execution_count": 93,
     "metadata": {},
     "output_type": "execute_result"
    }
   ],
   "source": [
    "CA_ACC = CA_CS[(CA_CS.Domain == 'Care of Acute and Chronic Conditions')]\n",
    "CA_ACC"
   ]
  },
  {
   "cell_type": "code",
   "execution_count": 94,
   "metadata": {},
   "outputs": [
    {
     "data": {
      "text/plain": [
       "6"
      ]
     },
     "execution_count": 94,
     "metadata": {},
     "output_type": "execute_result"
    }
   ],
   "source": [
    "len(CA_BHC)"
   ]
  },
  {
   "cell_type": "code",
   "execution_count": 95,
   "metadata": {},
   "outputs": [
    {
     "data": {
      "text/html": [
       "<div>\n",
       "<style scoped>\n",
       "    .dataframe tbody tr th:only-of-type {\n",
       "        vertical-align: middle;\n",
       "    }\n",
       "\n",
       "    .dataframe tbody tr th {\n",
       "        vertical-align: top;\n",
       "    }\n",
       "\n",
       "    .dataframe thead th {\n",
       "        text-align: right;\n",
       "    }\n",
       "</style>\n",
       "<table border=\"1\" class=\"dataframe\">\n",
       "  <thead>\n",
       "    <tr style=\"text-align: right;\">\n",
       "      <th></th>\n",
       "      <th>State</th>\n",
       "      <th>Domain</th>\n",
       "      <th>ReportProg</th>\n",
       "      <th>MeasureName</th>\n",
       "      <th>MeasureAbbre</th>\n",
       "      <th>Measure Type</th>\n",
       "      <th>StateRate</th>\n",
       "      <th>Median</th>\n",
       "      <th>Bottom</th>\n",
       "      <th>Top</th>\n",
       "      <th>Rate Used in Calculating State Mean and Median</th>\n",
       "    </tr>\n",
       "  </thead>\n",
       "  <tbody>\n",
       "    <tr>\n",
       "      <th>167</th>\n",
       "      <td>California</td>\n",
       "      <td>Care of Acute and Chronic Conditions</td>\n",
       "      <td>Child Core Set</td>\n",
       "      <td>Ambulatory Care: Emergency Department (ED) Vis...</td>\n",
       "      <td>AMB-CH</td>\n",
       "      <td>Lower rates are better for this measure</td>\n",
       "      <td>33.0</td>\n",
       "      <td>43.6</td>\n",
       "      <td>50.1</td>\n",
       "      <td>37.0</td>\n",
       "      <td>Yes</td>\n",
       "    </tr>\n",
       "    <tr>\n",
       "      <th>168</th>\n",
       "      <td>California</td>\n",
       "      <td>Care of Acute and Chronic Conditions</td>\n",
       "      <td>Child Core Set</td>\n",
       "      <td>Asthma Medication Ratio: Ages 5 to 18</td>\n",
       "      <td>AMR-CH</td>\n",
       "      <td>Higher rates are better for this measure</td>\n",
       "      <td>71.0</td>\n",
       "      <td>72.8</td>\n",
       "      <td>67.9</td>\n",
       "      <td>79.1</td>\n",
       "      <td>Yes</td>\n",
       "    </tr>\n",
       "    <tr>\n",
       "      <th>169</th>\n",
       "      <td>California</td>\n",
       "      <td>Care of Acute and Chronic Conditions</td>\n",
       "      <td>Child Core Set</td>\n",
       "      <td>Asthma Medication Ratio: Ages 5 to 18</td>\n",
       "      <td>AMR-CH</td>\n",
       "      <td>Higher rates are better for this measure</td>\n",
       "      <td>64.2</td>\n",
       "      <td>64.6</td>\n",
       "      <td>59.9</td>\n",
       "      <td>68.7</td>\n",
       "      <td>Yes</td>\n",
       "    </tr>\n",
       "    <tr>\n",
       "      <th>170</th>\n",
       "      <td>California</td>\n",
       "      <td>Care of Acute and Chronic Conditions</td>\n",
       "      <td>Child Core Set</td>\n",
       "      <td>Asthma Medication Ratio: Ages 5 to 18</td>\n",
       "      <td>AMR-CH</td>\n",
       "      <td>Higher rates are better for this measure</td>\n",
       "      <td>68.2</td>\n",
       "      <td>69.4</td>\n",
       "      <td>65.6</td>\n",
       "      <td>74.0</td>\n",
       "      <td>Yes</td>\n",
       "    </tr>\n",
       "  </tbody>\n",
       "</table>\n",
       "</div>"
      ],
      "text/plain": [
       "          State                                Domain      ReportProg  \\\n",
       "167  California  Care of Acute and Chronic Conditions  Child Core Set   \n",
       "168  California  Care of Acute and Chronic Conditions  Child Core Set   \n",
       "169  California  Care of Acute and Chronic Conditions  Child Core Set   \n",
       "170  California  Care of Acute and Chronic Conditions  Child Core Set   \n",
       "\n",
       "                                           MeasureName MeasureAbbre  \\\n",
       "167  Ambulatory Care: Emergency Department (ED) Vis...       AMB-CH   \n",
       "168              Asthma Medication Ratio: Ages 5 to 18       AMR-CH   \n",
       "169              Asthma Medication Ratio: Ages 5 to 18       AMR-CH   \n",
       "170              Asthma Medication Ratio: Ages 5 to 18       AMR-CH   \n",
       "\n",
       "                                 Measure Type StateRate  Median  Bottom   Top  \\\n",
       "167   Lower rates are better for this measure      33.0    43.6    50.1  37.0   \n",
       "168  Higher rates are better for this measure      71.0    72.8    67.9  79.1   \n",
       "169  Higher rates are better for this measure      64.2    64.6    59.9  68.7   \n",
       "170  Higher rates are better for this measure      68.2    69.4    65.6  74.0   \n",
       "\n",
       "    Rate Used in Calculating State Mean and Median  \n",
       "167                                            Yes  \n",
       "168                                            Yes  \n",
       "169                                            Yes  \n",
       "170                                            Yes  "
      ]
     },
     "execution_count": 95,
     "metadata": {},
     "output_type": "execute_result"
    }
   ],
   "source": [
    "CA_ACC"
   ]
  },
  {
   "cell_type": "code",
   "execution_count": 96,
   "metadata": {},
   "outputs": [
    {
     "data": {
      "text/html": [
       "<div>\n",
       "<style scoped>\n",
       "    .dataframe tbody tr th:only-of-type {\n",
       "        vertical-align: middle;\n",
       "    }\n",
       "\n",
       "    .dataframe tbody tr th {\n",
       "        vertical-align: top;\n",
       "    }\n",
       "\n",
       "    .dataframe thead th {\n",
       "        text-align: right;\n",
       "    }\n",
       "</style>\n",
       "<table border=\"1\" class=\"dataframe\">\n",
       "  <thead>\n",
       "    <tr style=\"text-align: right;\">\n",
       "      <th></th>\n",
       "      <th>State</th>\n",
       "      <th>Domain</th>\n",
       "      <th>ReportProg</th>\n",
       "      <th>MeasureName</th>\n",
       "      <th>MeasureAbbre</th>\n",
       "      <th>Measure Type</th>\n",
       "      <th>StateRate</th>\n",
       "      <th>Median</th>\n",
       "      <th>Bottom</th>\n",
       "      <th>Top</th>\n",
       "      <th>Rate Used in Calculating State Mean and Median</th>\n",
       "    </tr>\n",
       "  </thead>\n",
       "  <tbody>\n",
       "    <tr>\n",
       "      <th>167</th>\n",
       "      <td>California</td>\n",
       "      <td>Care of Acute and Chronic Conditions</td>\n",
       "      <td>Child Core Set</td>\n",
       "      <td>Ambulatory Care: Emergency Department (ED) Vis...</td>\n",
       "      <td>AMB-CH</td>\n",
       "      <td>Lower rates are better for this measure</td>\n",
       "      <td>33.0</td>\n",
       "      <td>43.6</td>\n",
       "      <td>50.1</td>\n",
       "      <td>37.0</td>\n",
       "      <td>Yes</td>\n",
       "    </tr>\n",
       "    <tr>\n",
       "      <th>168</th>\n",
       "      <td>California</td>\n",
       "      <td>Care of Acute and Chronic Conditions</td>\n",
       "      <td>Child Core Set</td>\n",
       "      <td>Asthma Medication Ratio: Ages 5 to 18</td>\n",
       "      <td>AMR-CH</td>\n",
       "      <td>Higher rates are better for this measure</td>\n",
       "      <td>71.0</td>\n",
       "      <td>72.8</td>\n",
       "      <td>67.9</td>\n",
       "      <td>79.1</td>\n",
       "      <td>Yes</td>\n",
       "    </tr>\n",
       "  </tbody>\n",
       "</table>\n",
       "</div>"
      ],
      "text/plain": [
       "          State                                Domain      ReportProg  \\\n",
       "167  California  Care of Acute and Chronic Conditions  Child Core Set   \n",
       "168  California  Care of Acute and Chronic Conditions  Child Core Set   \n",
       "\n",
       "                                           MeasureName MeasureAbbre  \\\n",
       "167  Ambulatory Care: Emergency Department (ED) Vis...       AMB-CH   \n",
       "168              Asthma Medication Ratio: Ages 5 to 18       AMR-CH   \n",
       "\n",
       "                                 Measure Type StateRate  Median  Bottom   Top  \\\n",
       "167   Lower rates are better for this measure      33.0    43.6    50.1  37.0   \n",
       "168  Higher rates are better for this measure      71.0    72.8    67.9  79.1   \n",
       "\n",
       "    Rate Used in Calculating State Mean and Median  \n",
       "167                                            Yes  \n",
       "168                                            Yes  "
      ]
     },
     "execution_count": 96,
     "metadata": {},
     "output_type": "execute_result"
    }
   ],
   "source": [
    "CA_ACC = CA_ACC.drop_duplicates(subset=['MeasureName'],keep= 'first')\n",
    "\n",
    "CA_ACC"
   ]
  },
  {
   "cell_type": "code",
   "execution_count": 98,
   "metadata": {},
   "outputs": [
    {
     "data": {
      "text/html": [
       "<div>\n",
       "<style scoped>\n",
       "    .dataframe tbody tr th:only-of-type {\n",
       "        vertical-align: middle;\n",
       "    }\n",
       "\n",
       "    .dataframe tbody tr th {\n",
       "        vertical-align: top;\n",
       "    }\n",
       "\n",
       "    .dataframe thead th {\n",
       "        text-align: right;\n",
       "    }\n",
       "</style>\n",
       "<table border=\"1\" class=\"dataframe\">\n",
       "  <thead>\n",
       "    <tr style=\"text-align: right;\">\n",
       "      <th></th>\n",
       "      <th>State</th>\n",
       "      <th>Domain</th>\n",
       "      <th>ReportProg</th>\n",
       "      <th>MeasureName</th>\n",
       "      <th>MeasureAbbre</th>\n",
       "      <th>Measure Type</th>\n",
       "      <th>StateRate</th>\n",
       "      <th>Median</th>\n",
       "      <th>Bottom</th>\n",
       "      <th>Top</th>\n",
       "      <th>Rate Used in Calculating State Mean and Median</th>\n",
       "    </tr>\n",
       "  </thead>\n",
       "  <tbody>\n",
       "    <tr>\n",
       "      <th>161</th>\n",
       "      <td>California</td>\n",
       "      <td>Behavioral Health Care</td>\n",
       "      <td>Child Core Set</td>\n",
       "      <td>Follow-Up After Hospitalization for Mental Ill...</td>\n",
       "      <td>FUH-CH</td>\n",
       "      <td>Higher rates are better for this measure</td>\n",
       "      <td>71.2</td>\n",
       "      <td>41.9</td>\n",
       "      <td>35.0</td>\n",
       "      <td>58.8</td>\n",
       "      <td>Yes</td>\n",
       "    </tr>\n",
       "    <tr>\n",
       "      <th>163</th>\n",
       "      <td>California</td>\n",
       "      <td>Behavioral Health Care</td>\n",
       "      <td>Child Core Set</td>\n",
       "      <td>Follow-Up Care for Children Prescribed Attenti...</td>\n",
       "      <td>ADD-CH</td>\n",
       "      <td>Higher rates are better for this measure</td>\n",
       "      <td>45.6</td>\n",
       "      <td>48.6</td>\n",
       "      <td>41.9</td>\n",
       "      <td>55.8</td>\n",
       "      <td>Yes</td>\n",
       "    </tr>\n",
       "    <tr>\n",
       "      <th>165</th>\n",
       "      <td>California</td>\n",
       "      <td>Behavioral Health Care</td>\n",
       "      <td>Child Core Set</td>\n",
       "      <td>Use of First-Line Psychosocial Care for Childr...</td>\n",
       "      <td>APP-CH</td>\n",
       "      <td>Higher rates are better for this measure</td>\n",
       "      <td>61.6</td>\n",
       "      <td>62.8</td>\n",
       "      <td>57.2</td>\n",
       "      <td>69.4</td>\n",
       "      <td>Yes</td>\n",
       "    </tr>\n",
       "    <tr>\n",
       "      <th>166</th>\n",
       "      <td>California</td>\n",
       "      <td>Behavioral Health Care</td>\n",
       "      <td>Child Core Set</td>\n",
       "      <td>Use of Multiple Concurrent Antipsychotics in C...</td>\n",
       "      <td>APC-CH</td>\n",
       "      <td>Lower rates are better for this measure</td>\n",
       "      <td>3.0</td>\n",
       "      <td>2.6</td>\n",
       "      <td>3.5</td>\n",
       "      <td>1.7</td>\n",
       "      <td>Yes</td>\n",
       "    </tr>\n",
       "  </tbody>\n",
       "</table>\n",
       "</div>"
      ],
      "text/plain": [
       "          State                  Domain      ReportProg  \\\n",
       "161  California  Behavioral Health Care  Child Core Set   \n",
       "163  California  Behavioral Health Care  Child Core Set   \n",
       "165  California  Behavioral Health Care  Child Core Set   \n",
       "166  California  Behavioral Health Care  Child Core Set   \n",
       "\n",
       "                                           MeasureName MeasureAbbre  \\\n",
       "161  Follow-Up After Hospitalization for Mental Ill...       FUH-CH   \n",
       "163  Follow-Up Care for Children Prescribed Attenti...       ADD-CH   \n",
       "165  Use of First-Line Psychosocial Care for Childr...       APP-CH   \n",
       "166  Use of Multiple Concurrent Antipsychotics in C...       APC-CH   \n",
       "\n",
       "                                 Measure Type StateRate  Median  Bottom   Top  \\\n",
       "161  Higher rates are better for this measure      71.2    41.9    35.0  58.8   \n",
       "163  Higher rates are better for this measure      45.6    48.6    41.9  55.8   \n",
       "165  Higher rates are better for this measure      61.6    62.8    57.2  69.4   \n",
       "166   Lower rates are better for this measure       3.0     2.6     3.5   1.7   \n",
       "\n",
       "    Rate Used in Calculating State Mean and Median  \n",
       "161                                            Yes  \n",
       "163                                            Yes  \n",
       "165                                            Yes  \n",
       "166                                            Yes  "
      ]
     },
     "execution_count": 98,
     "metadata": {},
     "output_type": "execute_result"
    }
   ],
   "source": [
    "CA_BHC = CA_BHC.drop_duplicates(subset=['MeasureName'],keep= 'first')\n",
    "\n",
    "CA_BHC"
   ]
  },
  {
   "cell_type": "code",
   "execution_count": 99,
   "metadata": {},
   "outputs": [
    {
     "data": {
      "text/html": [
       "<div>\n",
       "<style scoped>\n",
       "    .dataframe tbody tr th:only-of-type {\n",
       "        vertical-align: middle;\n",
       "    }\n",
       "\n",
       "    .dataframe tbody tr th {\n",
       "        vertical-align: top;\n",
       "    }\n",
       "\n",
       "    .dataframe thead th {\n",
       "        text-align: right;\n",
       "    }\n",
       "</style>\n",
       "<table border=\"1\" class=\"dataframe\">\n",
       "  <thead>\n",
       "    <tr style=\"text-align: right;\">\n",
       "      <th></th>\n",
       "      <th>State</th>\n",
       "      <th>Domain</th>\n",
       "      <th>ReportProg</th>\n",
       "      <th>MeasureName</th>\n",
       "      <th>MeasureAbbre</th>\n",
       "      <th>Measure Type</th>\n",
       "      <th>StateRate</th>\n",
       "      <th>Median</th>\n",
       "      <th>Bottom</th>\n",
       "      <th>Top</th>\n",
       "      <th>Rate Used in Calculating State Mean and Median</th>\n",
       "    </tr>\n",
       "  </thead>\n",
       "  <tbody>\n",
       "    <tr>\n",
       "      <th>166</th>\n",
       "      <td>California</td>\n",
       "      <td>Behavioral Health Care</td>\n",
       "      <td>Child Core Set</td>\n",
       "      <td>Use of Multiple Concurrent Antipsychotics in C...</td>\n",
       "      <td>APC-CH</td>\n",
       "      <td>Lower rates are better for this measure</td>\n",
       "      <td>3.0</td>\n",
       "      <td>2.6</td>\n",
       "      <td>3.5</td>\n",
       "      <td>1.7</td>\n",
       "      <td>Yes</td>\n",
       "    </tr>\n",
       "    <tr>\n",
       "      <th>163</th>\n",
       "      <td>California</td>\n",
       "      <td>Behavioral Health Care</td>\n",
       "      <td>Child Core Set</td>\n",
       "      <td>Follow-Up Care for Children Prescribed Attenti...</td>\n",
       "      <td>ADD-CH</td>\n",
       "      <td>Higher rates are better for this measure</td>\n",
       "      <td>45.6</td>\n",
       "      <td>48.6</td>\n",
       "      <td>41.9</td>\n",
       "      <td>55.8</td>\n",
       "      <td>Yes</td>\n",
       "    </tr>\n",
       "    <tr>\n",
       "      <th>165</th>\n",
       "      <td>California</td>\n",
       "      <td>Behavioral Health Care</td>\n",
       "      <td>Child Core Set</td>\n",
       "      <td>Use of First-Line Psychosocial Care for Childr...</td>\n",
       "      <td>APP-CH</td>\n",
       "      <td>Higher rates are better for this measure</td>\n",
       "      <td>61.6</td>\n",
       "      <td>62.8</td>\n",
       "      <td>57.2</td>\n",
       "      <td>69.4</td>\n",
       "      <td>Yes</td>\n",
       "    </tr>\n",
       "    <tr>\n",
       "      <th>161</th>\n",
       "      <td>California</td>\n",
       "      <td>Behavioral Health Care</td>\n",
       "      <td>Child Core Set</td>\n",
       "      <td>Follow-Up After Hospitalization for Mental Ill...</td>\n",
       "      <td>FUH-CH</td>\n",
       "      <td>Higher rates are better for this measure</td>\n",
       "      <td>71.2</td>\n",
       "      <td>41.9</td>\n",
       "      <td>35.0</td>\n",
       "      <td>58.8</td>\n",
       "      <td>Yes</td>\n",
       "    </tr>\n",
       "  </tbody>\n",
       "</table>\n",
       "</div>"
      ],
      "text/plain": [
       "          State                  Domain      ReportProg  \\\n",
       "166  California  Behavioral Health Care  Child Core Set   \n",
       "163  California  Behavioral Health Care  Child Core Set   \n",
       "165  California  Behavioral Health Care  Child Core Set   \n",
       "161  California  Behavioral Health Care  Child Core Set   \n",
       "\n",
       "                                           MeasureName MeasureAbbre  \\\n",
       "166  Use of Multiple Concurrent Antipsychotics in C...       APC-CH   \n",
       "163  Follow-Up Care for Children Prescribed Attenti...       ADD-CH   \n",
       "165  Use of First-Line Psychosocial Care for Childr...       APP-CH   \n",
       "161  Follow-Up After Hospitalization for Mental Ill...       FUH-CH   \n",
       "\n",
       "                                 Measure Type StateRate  Median  Bottom   Top  \\\n",
       "166   Lower rates are better for this measure       3.0     2.6     3.5   1.7   \n",
       "163  Higher rates are better for this measure      45.6    48.6    41.9  55.8   \n",
       "165  Higher rates are better for this measure      61.6    62.8    57.2  69.4   \n",
       "161  Higher rates are better for this measure      71.2    41.9    35.0  58.8   \n",
       "\n",
       "    Rate Used in Calculating State Mean and Median  \n",
       "166                                            Yes  \n",
       "163                                            Yes  \n",
       "165                                            Yes  \n",
       "161                                            Yes  "
      ]
     },
     "execution_count": 99,
     "metadata": {},
     "output_type": "execute_result"
    }
   ],
   "source": [
    "CA_BHC=CA_BHC.sort_values(by=['StateRate'], ascending=True)\n",
    "CA_BHC"
   ]
  },
  {
   "cell_type": "markdown",
   "metadata": {},
   "source": [
    "### Visualization "
   ]
  },
  {
   "cell_type": "code",
   "execution_count": null,
   "metadata": {},
   "outputs": [],
   "source": [
    "#pip install plotly\n"
   ]
  },
  {
   "cell_type": "code",
   "execution_count": 100,
   "metadata": {},
   "outputs": [],
   "source": [
    "import plotly.express as px"
   ]
  },
  {
   "cell_type": "code",
   "execution_count": 101,
   "metadata": {
    "scrolled": true
   },
   "outputs": [
    {
     "data": {
      "image/png": "[encoded data removed]",
      "text/plain": [
       "<Figure size 4320x2160 with 1 Axes>"
      ]
     },
     "metadata": {
      "needs_background": "light"
     },
     "output_type": "display_data"
    }
   ],
   "source": [
    "ca_Measures= CA_BHC['MeasureName'].tolist()\n",
    "\n",
    "ca_rates= CA_BHC['StateRate'].sort_values(ascending=True)\n",
    "\n",
    "fig= plt.figure(figsize=(60,30))\n",
    "\n",
    "#Create bar plot \n",
    "\n",
    "plt.barh(ca_Measures,ca_rates, color='green')\n",
    "#plt.xlim(10,80)\n",
    "\n",
    "plt.xlabel(\"State Rate\", size=60)\n",
    "plt.ylabel(\"Measure Names\", size= 60)\n",
    "plt.xticks(size = 40)\n",
    "plt.yticks(size = 40)\n",
    "plt.title(\"CA Measures in Care of Acute and Chronic Conditions\", size=70)\n",
    "plt.show()\n",
    "\n",
    "\n"
   ]
  },
  {
   "cell_type": "code",
   "execution_count": null,
   "metadata": {},
   "outputs": [],
   "source": [
    "def visualizer(): \n",
    "    "
   ]
  },
  {
   "cell_type": "code",
   "execution_count": 114,
   "metadata": {},
   "outputs": [
    {
     "data": {
      "application/vnd.plotly.v1+json": {
       "config": {
        "plotlyServerURL": "https://plot.ly"
       },
       "data": [
        {
         "alignmentgroup": "True",
         "customdata": [
          [
           1.7,
           2.6,
           3.5
          ],
          [
           55.8,
           48.6,
           41.9
          ],
          [
           69.4,
           62.8,
           57.2
          ],
          [
           58.8,
           41.9,
           35
          ]
         ],
         "hovertemplate": "<b>%{hovertext}</b><br><br>StateRate=%{x}<br>MeasureName=%{y}<br>Top=%{customdata[0]}<br>Median=%{customdata[1]}<br>Bottom=%{customdata[2]}<extra></extra>",
         "hovertext": [
          "Lower rates are better for this measure",
          "Higher rates are better for this measure",
          "Higher rates are better for this measure",
          "Higher rates are better for this measure"
         ],
         "legendgroup": "",
         "marker": {
          "color": "#636efa",
          "pattern": {
           "shape": ""
          }
         },
         "name": "",
         "offsetgroup": "",
         "orientation": "h",
         "showlegend": false,
         "textposition": "auto",
         "type": "bar",
         "x": [
          "3.0",
          "45.6",
          "61.6",
          "71.2"
         ],
         "xaxis": "x",
         "y": [
          "Use of Multiple Concurrent Antipsychotics in Children and Adolescents: Ages 1 to 17",
          "Follow-Up Care for Children Prescribed Attention-Deficit/Hyperactivity Disorder (ADHD) Medication: Ages 6 to 12",
          "Use of First-Line Psychosocial Care for Children and Adolescents on Antipsychotics: Ages 1 to 17",
          "Follow-Up After Hospitalization for Mental Illness: Ages 6 to 17"
         ],
         "yaxis": "y"
        }
       ],
       "layout": {
        "barmode": "relative",
        "font": {
         "color": "Black",
         "family": "Arial",
         "size": 18
        },
        "legend": {
         "tracegroupgap": 0
        },
        "margin": {
         "t": 60
        },
        "template": {
         "data": {
          "bar": [
           {
            "error_x": {
             "color": "#2a3f5f"
            },
            "error_y": {
             "color": "#2a3f5f"
            },
            "marker": {
             "line": {
              "color": "#E5ECF6",
              "width": 0.5
             },
             "pattern": {
              "fillmode": "overlay",
              "size": 10,
              "solidity": 0.2
             }
            },
            "type": "bar"
           }
          ],
          "barpolar": [
           {
            "marker": {
             "line": {
              "color": "#E5ECF6",
              "width": 0.5
             },
             "pattern": {
              "fillmode": "overlay",
              "size": 10,
              "solidity": 0.2
             }
            },
            "type": "barpolar"
           }
          ],
          "carpet": [
           {
            "aaxis": {
             "endlinecolor": "#2a3f5f",
             "gridcolor": "white",
             "linecolor": "white",
             "minorgridcolor": "white",
             "startlinecolor": "#2a3f5f"
            },
            "baxis": {
             "endlinecolor": "#2a3f5f",
             "gridcolor": "white",
             "linecolor": "white",
             "minorgridcolor": "white",
             "startlinecolor": "#2a3f5f"
            },
            "type": "carpet"
           }
          ],
          "choropleth": [
           {
            "colorbar": {
             "outlinewidth": 0,
             "ticks": ""
            },
            "type": "choropleth"
           }
          ],
          "contour": [
           {
            "colorbar": {
             "outlinewidth": 0,
             "ticks": ""
            },
            "colorscale": [
             [
              0,
              "#0d0887"
             ],
             [
              0.1111111111111111,
              "#46039f"
             ],
             [
              0.2222222222222222,
              "#7201a8"
             ],
             [
              0.3333333333333333,
              "#9c179e"
             ],
             [
              0.4444444444444444,
              "#bd3786"
             ],
             [
              0.5555555555555556,
              "#d8576b"
             ],
             [
              0.6666666666666666,
              "#ed7953"
             ],
             [
              0.7777777777777778,
              "#fb9f3a"
             ],
             [
              0.8888888888888888,
              "#fdca26"
             ],
             [
              1,
              "#f0f921"
             ]
            ],
            "type": "contour"
           }
          ],
          "contourcarpet": [
           {
            "colorbar": {
             "outlinewidth": 0,
             "ticks": ""
            },
            "type": "contourcarpet"
           }
          ],
          "heatmap": [
           {
            "colorbar": {
             "outlinewidth": 0,
             "ticks": ""
            },
            "colorscale": [
             [
              0,
              "#0d0887"
             ],
             [
              0.1111111111111111,
              "#46039f"
             ],
             [
              0.2222222222222222,
              "#7201a8"
             ],
             [
              0.3333333333333333,
              "#9c179e"
             ],
             [
              0.4444444444444444,
              "#bd3786"
             ],
             [
              0.5555555555555556,
              "#d8576b"
             ],
             [
              0.6666666666666666,
              "#ed7953"
             ],
             [
              0.7777777777777778,
              "#fb9f3a"
             ],
             [
              0.8888888888888888,
              "#fdca26"
             ],
             [
              1,
              "#f0f921"
             ]
            ],
            "type": "heatmap"
           }
          ],
          "heatmapgl": [
           {
            "colorbar": {
             "outlinewidth": 0,
             "ticks": ""
            },
            "colorscale": [
             [
              0,
              "#0d0887"
             ],
             [
              0.1111111111111111,
              "#46039f"
             ],
             [
              0.2222222222222222,
              "#7201a8"
             ],
             [
              0.3333333333333333,
              "#9c179e"
             ],
             [
              0.4444444444444444,
              "#bd3786"
             ],
             [
              0.5555555555555556,
              "#d8576b"
             ],
             [
              0.6666666666666666,
              "#ed7953"
             ],
             [
              0.7777777777777778,
              "#fb9f3a"
             ],
             [
              0.8888888888888888,
              "#fdca26"
             ],
             [
              1,
              "#f0f921"
             ]
            ],
            "type": "heatmapgl"
           }
          ],
          "histogram": [
           {
            "marker": {
             "pattern": {
              "fillmode": "overlay",
              "size": 10,
              "solidity": 0.2
             }
            },
            "type": "histogram"
           }
          ],
          "histogram2d": [
           {
            "colorbar": {
             "outlinewidth": 0,
             "ticks": ""
            },
            "colorscale": [
             [
              0,
              "#0d0887"
             ],
             [
              0.1111111111111111,
              "#46039f"
             ],
             [
              0.2222222222222222,
              "#7201a8"
             ],
             [
              0.3333333333333333,
              "#9c179e"
             ],
             [
              0.4444444444444444,
              "#bd3786"
             ],
             [
              0.5555555555555556,
              "#d8576b"
             ],
             [
              0.6666666666666666,
              "#ed7953"
             ],
             [
              0.7777777777777778,
              "#fb9f3a"
             ],
             [
              0.8888888888888888,
              "#fdca26"
             ],
             [
              1,
              "#f0f921"
             ]
            ],
            "type": "histogram2d"
           }
          ],
          "histogram2dcontour": [
           {
            "colorbar": {
             "outlinewidth": 0,
             "ticks": ""
            },
            "colorscale": [
             [
              0,
              "#0d0887"
             ],
             [
              0.1111111111111111,
              "#46039f"
             ],
             [
              0.2222222222222222,
              "#7201a8"
             ],
             [
              0.3333333333333333,
              "#9c179e"
             ],
             [
              0.4444444444444444,
              "#bd3786"
             ],
             [
              0.5555555555555556,
              "#d8576b"
             ],
             [
              0.6666666666666666,
              "#ed7953"
             ],
             [
              0.7777777777777778,
              "#fb9f3a"
             ],
             [
              0.8888888888888888,
              "#fdca26"
             ],
             [
              1,
              "#f0f921"
             ]
            ],
            "type": "histogram2dcontour"
           }
          ],
          "mesh3d": [
           {
            "colorbar": {
             "outlinewidth": 0,
             "ticks": ""
            },
            "type": "mesh3d"
           }
          ],
          "parcoords": [
           {
            "line": {
             "colorbar": {
              "outlinewidth": 0,
              "ticks": ""
             }
            },
            "type": "parcoords"
           }
          ],
          "pie": [
           {
            "automargin": true,
            "type": "pie"
           }
          ],
          "scatter": [
           {
            "marker": {
             "colorbar": {
              "outlinewidth": 0,
              "ticks": ""
             }
            },
            "type": "scatter"
           }
          ],
          "scatter3d": [
           {
            "line": {
             "colorbar": {
              "outlinewidth": 0,
              "ticks": ""
             }
            },
            "marker": {
             "colorbar": {
              "outlinewidth": 0,
              "ticks": ""
             }
            },
            "type": "scatter3d"
           }
          ],
          "scattercarpet": [
           {
            "marker": {
             "colorbar": {
              "outlinewidth": 0,
              "ticks": ""
             }
            },
            "type": "scattercarpet"
           }
          ],
          "scattergeo": [
           {
            "marker": {
             "colorbar": {
              "outlinewidth": 0,
              "ticks": ""
             }
            },
            "type": "scattergeo"
           }
          ],
          "scattergl": [
           {
            "marker": {
             "colorbar": {
              "outlinewidth": 0,
              "ticks": ""
             }
            },
            "type": "scattergl"
           }
          ],
          "scattermapbox": [
           {
            "marker": {
             "colorbar": {
              "outlinewidth": 0,
              "ticks": ""
             }
            },
            "type": "scattermapbox"
           }
          ],
          "scatterpolar": [
           {
            "marker": {
             "colorbar": {
              "outlinewidth": 0,
              "ticks": ""
             }
            },
            "type": "scatterpolar"
           }
          ],
          "scatterpolargl": [
           {
            "marker": {
             "colorbar": {
              "outlinewidth": 0,
              "ticks": ""
             }
            },
            "type": "scatterpolargl"
           }
          ],
          "scatterternary": [
           {
            "marker": {
             "colorbar": {
              "outlinewidth": 0,
              "ticks": ""
             }
            },
            "type": "scatterternary"
           }
          ],
          "surface": [
           {
            "colorbar": {
             "outlinewidth": 0,
             "ticks": ""
            },
            "colorscale": [
             [
              0,
              "#0d0887"
             ],
             [
              0.1111111111111111,
              "#46039f"
             ],
             [
              0.2222222222222222,
              "#7201a8"
             ],
             [
              0.3333333333333333,
              "#9c179e"
             ],
             [
              0.4444444444444444,
              "#bd3786"
             ],
             [
              0.5555555555555556,
              "#d8576b"
             ],
             [
              0.6666666666666666,
              "#ed7953"
             ],
             [
              0.7777777777777778,
              "#fb9f3a"
             ],
             [
              0.8888888888888888,
              "#fdca26"
             ],
             [
              1,
              "#f0f921"
             ]
            ],
            "type": "surface"
           }
          ],
          "table": [
           {
            "cells": {
             "fill": {
              "color": "#EBF0F8"
             },
             "line": {
              "color": "white"
             }
            },
            "header": {
             "fill": {
              "color": "#C8D4E3"
             },
             "line": {
              "color": "white"
             }
            },
            "type": "table"
           }
          ]
         },
         "layout": {
          "annotationdefaults": {
           "arrowcolor": "#2a3f5f",
           "arrowhead": 0,
           "arrowwidth": 1
          },
          "autotypenumbers": "strict",
          "coloraxis": {
           "colorbar": {
            "outlinewidth": 0,
            "ticks": ""
           }
          },
          "colorscale": {
           "diverging": [
            [
             0,
             "#8e0152"
            ],
            [
             0.1,
             "#c51b7d"
            ],
            [
             0.2,
             "#de77ae"
            ],
            [
             0.3,
             "#f1b6da"
            ],
            [
             0.4,
             "#fde0ef"
            ],
            [
             0.5,
             "#f7f7f7"
            ],
            [
             0.6,
             "#e6f5d0"
            ],
            [
             0.7,
             "#b8e186"
            ],
            [
             0.8,
             "#7fbc41"
            ],
            [
             0.9,
             "#4d9221"
            ],
            [
             1,
             "#276419"
            ]
           ],
           "sequential": [
            [
             0,
             "#0d0887"
            ],
            [
             0.1111111111111111,
             "#46039f"
            ],
            [
             0.2222222222222222,
             "#7201a8"
            ],
            [
             0.3333333333333333,
             "#9c179e"
            ],
            [
             0.4444444444444444,
             "#bd3786"
            ],
            [
             0.5555555555555556,
             "#d8576b"
            ],
            [
             0.6666666666666666,
             "#ed7953"
            ],
            [
             0.7777777777777778,
             "#fb9f3a"
            ],
            [
             0.8888888888888888,
             "#fdca26"
            ],
            [
             1,
             "#f0f921"
            ]
           ],
           "sequentialminus": [
            [
             0,
             "#0d0887"
            ],
            [
             0.1111111111111111,
             "#46039f"
            ],
            [
             0.2222222222222222,
             "#7201a8"
            ],
            [
             0.3333333333333333,
             "#9c179e"
            ],
            [
             0.4444444444444444,
             "#bd3786"
            ],
            [
             0.5555555555555556,
             "#d8576b"
            ],
            [
             0.6666666666666666,
             "#ed7953"
            ],
            [
             0.7777777777777778,
             "#fb9f3a"
            ],
            [
             0.8888888888888888,
             "#fdca26"
            ],
            [
             1,
             "#f0f921"
            ]
           ]
          },
          "colorway": [
           "#636efa",
           "#EF553B",
           "#00cc96",
           "#ab63fa",
           "#FFA15A",
           "#19d3f3",
           "#FF6692",
           "#B6E880",
           "#FF97FF",
           "#FECB52"
          ],
          "font": {
           "color": "#2a3f5f"
          },
          "geo": {
           "bgcolor": "white",
           "lakecolor": "white",
           "landcolor": "#E5ECF6",
           "showlakes": true,
           "showland": true,
           "subunitcolor": "white"
          },
          "hoverlabel": {
           "align": "left"
          },
          "hovermode": "closest",
          "mapbox": {
           "style": "light"
          },
          "paper_bgcolor": "white",
          "plot_bgcolor": "#E5ECF6",
          "polar": {
           "angularaxis": {
            "gridcolor": "white",
            "linecolor": "white",
            "ticks": ""
           },
           "bgcolor": "#E5ECF6",
           "radialaxis": {
            "gridcolor": "white",
            "linecolor": "white",
            "ticks": ""
           }
          },
          "scene": {
           "xaxis": {
            "backgroundcolor": "#E5ECF6",
            "gridcolor": "white",
            "gridwidth": 2,
            "linecolor": "white",
            "showbackground": true,
            "ticks": "",
            "zerolinecolor": "white"
           },
           "yaxis": {
            "backgroundcolor": "#E5ECF6",
            "gridcolor": "white",
            "gridwidth": 2,
            "linecolor": "white",
            "showbackground": true,
            "ticks": "",
            "zerolinecolor": "white"
           },
           "zaxis": {
            "backgroundcolor": "#E5ECF6",
            "gridcolor": "white",
            "gridwidth": 2,
            "linecolor": "white",
            "showbackground": true,
            "ticks": "",
            "zerolinecolor": "white"
           }
          },
          "shapedefaults": {
           "line": {
            "color": "#2a3f5f"
           }
          },
          "ternary": {
           "aaxis": {
            "gridcolor": "white",
            "linecolor": "white",
            "ticks": ""
           },
           "baxis": {
            "gridcolor": "white",
            "linecolor": "white",
            "ticks": ""
           },
           "bgcolor": "#E5ECF6",
           "caxis": {
            "gridcolor": "white",
            "linecolor": "white",
            "ticks": ""
           }
          },
          "title": {
           "x": 0.05
          },
          "xaxis": {
           "automargin": true,
           "gridcolor": "white",
           "linecolor": "white",
           "ticks": "",
           "title": {
            "standoff": 15
           },
           "zerolinecolor": "white",
           "zerolinewidth": 2
          },
          "yaxis": {
           "automargin": true,
           "gridcolor": "white",
           "linecolor": "white",
           "ticks": "",
           "title": {
            "standoff": 15
           },
           "zerolinecolor": "white",
           "zerolinewidth": 2
          }
         }
        },
        "title": {
         "text": "CA Measures in Care of Acute and Chronic Conditions",
         "x": 0.7,
         "xanchor": "center",
         "y": 0.95,
         "yanchor": "top"
        },
        "width": 2000,
        "xaxis": {
         "anchor": "y",
         "domain": [
          0,
          1
         ],
         "title": {
          "text": "State Rate"
         }
        },
        "yaxis": {
         "anchor": "x",
         "domain": [
          0,
          1
         ],
         "title": {
          "text": "Measure Names"
         }
        }
       }
      },
      "text/html": [
       "<div>                            <div id=\"c1442225-111b-44a3-93ec-8bbc9fb8a3f3\" class=\"plotly-graph-div\" style=\"height:525px; width:2000px;\"></div>            <script type=\"text/javascript\">                require([\"plotly\"], function(Plotly) {                    window.PLOTLYENV=window.PLOTLYENV || {};                                    if (document.getElementById(\"c1442225-111b-44a3-93ec-8bbc9fb8a3f3\")) {                    Plotly.newPlot(                        \"c1442225-111b-44a3-93ec-8bbc9fb8a3f3\",                        [{\"alignmentgroup\":\"True\",\"customdata\":[[1.7,2.6,3.5],[55.8,48.6,41.9],[69.4,62.8,57.2],[58.8,41.9,35.0]],\"hovertemplate\":\"<b>%{hovertext}</b><br><br>StateRate=%{x}<br>MeasureName=%{y}<br>Top=%{customdata[0]}<br>Median=%{customdata[1]}<br>Bottom=%{customdata[2]}<extra></extra>\",\"hovertext\":[\"Lower rates are better for this measure\",\"Higher rates are better for this measure\",\"Higher rates are better for this measure\",\"Higher rates are better for this measure\"],\"legendgroup\":\"\",\"marker\":{\"color\":\"#636efa\",\"pattern\":{\"shape\":\"\"}},\"name\":\"\",\"offsetgroup\":\"\",\"orientation\":\"h\",\"showlegend\":false,\"textposition\":\"auto\",\"type\":\"bar\",\"x\":[\"3.0\",\"45.6\",\"61.6\",\"71.2\"],\"xaxis\":\"x\",\"y\":[\"Use of Multiple Concurrent Antipsychotics in Children and Adolescents: Ages 1 to 17\",\"Follow-Up Care for Children Prescribed Attention-Deficit/Hyperactivity Disorder (ADHD) Medication: Ages 6 to 12\",\"Use of First-Line Psychosocial Care for Children and Adolescents on Antipsychotics: Ages 1 to 17\",\"Follow-Up After Hospitalization for Mental Illness: Ages 6 to 17\"],\"yaxis\":\"y\"}],                        {\"barmode\":\"relative\",\"font\":{\"color\":\"Black\",\"family\":\"Arial\",\"size\":18},\"legend\":{\"tracegroupgap\":0},\"margin\":{\"t\":60},\"template\":{\"data\":{\"bar\":[{\"error_x\":{\"color\":\"#2a3f5f\"},\"error_y\":{\"color\":\"#2a3f5f\"},\"marker\":{\"line\":{\"color\":\"#E5ECF6\",\"width\":0.5},\"pattern\":{\"fillmode\":\"overlay\",\"size\":10,\"solidity\":0.2}},\"type\":\"bar\"}],\"barpolar\":[{\"marker\":{\"line\":{\"color\":\"#E5ECF6\",\"width\":0.5},\"pattern\":{\"fillmode\":\"overlay\",\"size\":10,\"solidity\":0.2}},\"type\":\"barpolar\"}],\"carpet\":[{\"aaxis\":{\"endlinecolor\":\"#2a3f5f\",\"gridcolor\":\"white\",\"linecolor\":\"white\",\"minorgridcolor\":\"white\",\"startlinecolor\":\"#2a3f5f\"},\"baxis\":{\"endlinecolor\":\"#2a3f5f\",\"gridcolor\":\"white\",\"linecolor\":\"white\",\"minorgridcolor\":\"white\",\"startlinecolor\":\"#2a3f5f\"},\"type\":\"carpet\"}],\"choropleth\":[{\"colorbar\":{\"outlinewidth\":0,\"ticks\":\"\"},\"type\":\"choropleth\"}],\"contour\":[{\"colorbar\":{\"outlinewidth\":0,\"ticks\":\"\"},\"colorscale\":[[0.0,\"#0d0887\"],[0.1111111111111111,\"#46039f\"],[0.2222222222222222,\"#7201a8\"],[0.3333333333333333,\"#9c179e\"],[0.4444444444444444,\"#bd3786\"],[0.5555555555555556,\"#d8576b\"],[0.6666666666666666,\"#ed7953\"],[0.7777777777777778,\"#fb9f3a\"],[0.8888888888888888,\"#fdca26\"],[1.0,\"#f0f921\"]],\"type\":\"contour\"}],\"contourcarpet\":[{\"colorbar\":{\"outlinewidth\":0,\"ticks\":\"\"},\"type\":\"contourcarpet\"}],\"heatmap\":[{\"colorbar\":{\"outlinewidth\":0,\"ticks\":\"\"},\"colorscale\":[[0.0,\"#0d0887\"],[0.1111111111111111,\"#46039f\"],[0.2222222222222222,\"#7201a8\"],[0.3333333333333333,\"#9c179e\"],[0.4444444444444444,\"#bd3786\"],[0.5555555555555556,\"#d8576b\"],[0.6666666666666666,\"#ed7953\"],[0.7777777777777778,\"#fb9f3a\"],[0.8888888888888888,\"#fdca26\"],[1.0,\"#f0f921\"]],\"type\":\"heatmap\"}],\"heatmapgl\":[{\"colorbar\":{\"outlinewidth\":0,\"ticks\":\"\"},\"colorscale\":[[0.0,\"#0d0887\"],[0.1111111111111111,\"#46039f\"],[0.2222222222222222,\"#7201a8\"],[0.3333333333333333,\"#9c179e\"],[0.4444444444444444,\"#bd3786\"],[0.5555555555555556,\"#d8576b\"],[0.6666666666666666,\"#ed7953\"],[0.7777777777777778,\"#fb9f3a\"],[0.8888888888888888,\"#fdca26\"],[1.0,\"#f0f921\"]],\"type\":\"heatmapgl\"}],\"histogram\":[{\"marker\":{\"pattern\":{\"fillmode\":\"overlay\",\"size\":10,\"solidity\":0.2}},\"type\":\"histogram\"}],\"histogram2d\":[{\"colorbar\":{\"outlinewidth\":0,\"ticks\":\"\"},\"colorscale\":[[0.0,\"#0d0887\"],[0.1111111111111111,\"#46039f\"],[0.2222222222222222,\"#7201a8\"],[0.3333333333333333,\"#9c179e\"],[0.4444444444444444,\"#bd3786\"],[0.5555555555555556,\"#d8576b\"],[0.6666666666666666,\"#ed7953\"],[0.7777777777777778,\"#fb9f3a\"],[0.8888888888888888,\"#fdca26\"],[1.0,\"#f0f921\"]],\"type\":\"histogram2d\"}],\"histogram2dcontour\":[{\"colorbar\":{\"outlinewidth\":0,\"ticks\":\"\"},\"colorscale\":[[0.0,\"#0d0887\"],[0.1111111111111111,\"#46039f\"],[0.2222222222222222,\"#7201a8\"],[0.3333333333333333,\"#9c179e\"],[0.4444444444444444,\"#bd3786\"],[0.5555555555555556,\"#d8576b\"],[0.6666666666666666,\"#ed7953\"],[0.7777777777777778,\"#fb9f3a\"],[0.8888888888888888,\"#fdca26\"],[1.0,\"#f0f921\"]],\"type\":\"histogram2dcontour\"}],\"mesh3d\":[{\"colorbar\":{\"outlinewidth\":0,\"ticks\":\"\"},\"type\":\"mesh3d\"}],\"parcoords\":[{\"line\":{\"colorbar\":{\"outlinewidth\":0,\"ticks\":\"\"}},\"type\":\"parcoords\"}],\"pie\":[{\"automargin\":true,\"type\":\"pie\"}],\"scatter\":[{\"marker\":{\"colorbar\":{\"outlinewidth\":0,\"ticks\":\"\"}},\"type\":\"scatter\"}],\"scatter3d\":[{\"line\":{\"colorbar\":{\"outlinewidth\":0,\"ticks\":\"\"}},\"marker\":{\"colorbar\":{\"outlinewidth\":0,\"ticks\":\"\"}},\"type\":\"scatter3d\"}],\"scattercarpet\":[{\"marker\":{\"colorbar\":{\"outlinewidth\":0,\"ticks\":\"\"}},\"type\":\"scattercarpet\"}],\"scattergeo\":[{\"marker\":{\"colorbar\":{\"outlinewidth\":0,\"ticks\":\"\"}},\"type\":\"scattergeo\"}],\"scattergl\":[{\"marker\":{\"colorbar\":{\"outlinewidth\":0,\"ticks\":\"\"}},\"type\":\"scattergl\"}],\"scattermapbox\":[{\"marker\":{\"colorbar\":{\"outlinewidth\":0,\"ticks\":\"\"}},\"type\":\"scattermapbox\"}],\"scatterpolar\":[{\"marker\":{\"colorbar\":{\"outlinewidth\":0,\"ticks\":\"\"}},\"type\":\"scatterpolar\"}],\"scatterpolargl\":[{\"marker\":{\"colorbar\":{\"outlinewidth\":0,\"ticks\":\"\"}},\"type\":\"scatterpolargl\"}],\"scatterternary\":[{\"marker\":{\"colorbar\":{\"outlinewidth\":0,\"ticks\":\"\"}},\"type\":\"scatterternary\"}],\"surface\":[{\"colorbar\":{\"outlinewidth\":0,\"ticks\":\"\"},\"colorscale\":[[0.0,\"#0d0887\"],[0.1111111111111111,\"#46039f\"],[0.2222222222222222,\"#7201a8\"],[0.3333333333333333,\"#9c179e\"],[0.4444444444444444,\"#bd3786\"],[0.5555555555555556,\"#d8576b\"],[0.6666666666666666,\"#ed7953\"],[0.7777777777777778,\"#fb9f3a\"],[0.8888888888888888,\"#fdca26\"],[1.0,\"#f0f921\"]],\"type\":\"surface\"}],\"table\":[{\"cells\":{\"fill\":{\"color\":\"#EBF0F8\"},\"line\":{\"color\":\"white\"}},\"header\":{\"fill\":{\"color\":\"#C8D4E3\"},\"line\":{\"color\":\"white\"}},\"type\":\"table\"}]},\"layout\":{\"annotationdefaults\":{\"arrowcolor\":\"#2a3f5f\",\"arrowhead\":0,\"arrowwidth\":1},\"autotypenumbers\":\"strict\",\"coloraxis\":{\"colorbar\":{\"outlinewidth\":0,\"ticks\":\"\"}},\"colorscale\":{\"diverging\":[[0,\"#8e0152\"],[0.1,\"#c51b7d\"],[0.2,\"#de77ae\"],[0.3,\"#f1b6da\"],[0.4,\"#fde0ef\"],[0.5,\"#f7f7f7\"],[0.6,\"#e6f5d0\"],[0.7,\"#b8e186\"],[0.8,\"#7fbc41\"],[0.9,\"#4d9221\"],[1,\"#276419\"]],\"sequential\":[[0.0,\"#0d0887\"],[0.1111111111111111,\"#46039f\"],[0.2222222222222222,\"#7201a8\"],[0.3333333333333333,\"#9c179e\"],[0.4444444444444444,\"#bd3786\"],[0.5555555555555556,\"#d8576b\"],[0.6666666666666666,\"#ed7953\"],[0.7777777777777778,\"#fb9f3a\"],[0.8888888888888888,\"#fdca26\"],[1.0,\"#f0f921\"]],\"sequentialminus\":[[0.0,\"#0d0887\"],[0.1111111111111111,\"#46039f\"],[0.2222222222222222,\"#7201a8\"],[0.3333333333333333,\"#9c179e\"],[0.4444444444444444,\"#bd3786\"],[0.5555555555555556,\"#d8576b\"],[0.6666666666666666,\"#ed7953\"],[0.7777777777777778,\"#fb9f3a\"],[0.8888888888888888,\"#fdca26\"],[1.0,\"#f0f921\"]]},\"colorway\":[\"#636efa\",\"#EF553B\",\"#00cc96\",\"#ab63fa\",\"#FFA15A\",\"#19d3f3\",\"#FF6692\",\"#B6E880\",\"#FF97FF\",\"#FECB52\"],\"font\":{\"color\":\"#2a3f5f\"},\"geo\":{\"bgcolor\":\"white\",\"lakecolor\":\"white\",\"landcolor\":\"#E5ECF6\",\"showlakes\":true,\"showland\":true,\"subunitcolor\":\"white\"},\"hoverlabel\":{\"align\":\"left\"},\"hovermode\":\"closest\",\"mapbox\":{\"style\":\"light\"},\"paper_bgcolor\":\"white\",\"plot_bgcolor\":\"#E5ECF6\",\"polar\":{\"angularaxis\":{\"gridcolor\":\"white\",\"linecolor\":\"white\",\"ticks\":\"\"},\"bgcolor\":\"#E5ECF6\",\"radialaxis\":{\"gridcolor\":\"white\",\"linecolor\":\"white\",\"ticks\":\"\"}},\"scene\":{\"xaxis\":{\"backgroundcolor\":\"#E5ECF6\",\"gridcolor\":\"white\",\"gridwidth\":2,\"linecolor\":\"white\",\"showbackground\":true,\"ticks\":\"\",\"zerolinecolor\":\"white\"},\"yaxis\":{\"backgroundcolor\":\"#E5ECF6\",\"gridcolor\":\"white\",\"gridwidth\":2,\"linecolor\":\"white\",\"showbackground\":true,\"ticks\":\"\",\"zerolinecolor\":\"white\"},\"zaxis\":{\"backgroundcolor\":\"#E5ECF6\",\"gridcolor\":\"white\",\"gridwidth\":2,\"linecolor\":\"white\",\"showbackground\":true,\"ticks\":\"\",\"zerolinecolor\":\"white\"}},\"shapedefaults\":{\"line\":{\"color\":\"#2a3f5f\"}},\"ternary\":{\"aaxis\":{\"gridcolor\":\"white\",\"linecolor\":\"white\",\"ticks\":\"\"},\"baxis\":{\"gridcolor\":\"white\",\"linecolor\":\"white\",\"ticks\":\"\"},\"bgcolor\":\"#E5ECF6\",\"caxis\":{\"gridcolor\":\"white\",\"linecolor\":\"white\",\"ticks\":\"\"}},\"title\":{\"x\":0.05},\"xaxis\":{\"automargin\":true,\"gridcolor\":\"white\",\"linecolor\":\"white\",\"ticks\":\"\",\"title\":{\"standoff\":15},\"zerolinecolor\":\"white\",\"zerolinewidth\":2},\"yaxis\":{\"automargin\":true,\"gridcolor\":\"white\",\"linecolor\":\"white\",\"ticks\":\"\",\"title\":{\"standoff\":15},\"zerolinecolor\":\"white\",\"zerolinewidth\":2}}},\"title\":{\"text\":\"CA Measures in Care of Acute and Chronic Conditions\",\"x\":0.7,\"xanchor\":\"center\",\"y\":0.95,\"yanchor\":\"top\"},\"width\":2000,\"xaxis\":{\"anchor\":\"y\",\"domain\":[0.0,1.0],\"title\":{\"text\":\"State Rate\"}},\"yaxis\":{\"anchor\":\"x\",\"domain\":[0.0,1.0],\"title\":{\"text\":\"Measure Names\"}}},                        {\"responsive\": true}                    ).then(function(){\n",
       "                            \n",
       "var gd = document.getElementById('c1442225-111b-44a3-93ec-8bbc9fb8a3f3');\n",
       "var x = new MutationObserver(function (mutations, observer) {{\n",
       "        var display = window.getComputedStyle(gd).display;\n",
       "        if (!display || display === 'none') {{\n",
       "            console.log([gd, 'removed!']);\n",
       "            Plotly.purge(gd);\n",
       "            observer.disconnect();\n",
       "        }}\n",
       "}});\n",
       "\n",
       "// Listen for the removal of the full notebook cells\n",
       "var notebookContainer = gd.closest('#notebook-container');\n",
       "if (notebookContainer) {{\n",
       "    x.observe(notebookContainer, {childList: true});\n",
       "}}\n",
       "\n",
       "// Listen for the clearing of the current output cell\n",
       "var outputEl = gd.closest('.output');\n",
       "if (outputEl) {{\n",
       "    x.observe(outputEl, {childList: true});\n",
       "}}\n",
       "\n",
       "                        })                };                });            </script>        </div>"
      ]
     },
     "metadata": {},
     "output_type": "display_data"
    }
   ],
   "source": [
    "fig = px.bar(CA_BHC, \n",
    "             y='MeasureName',\n",
    "             x='StateRate',\n",
    "             hover_name=\"Measure Type\", \n",
    "             hover_data=['Top','Median','Bottom'],\n",
    "             orientation='h',\n",
    "             width= 2000 \n",
    "            \n",
    ")\n",
    "\n",
    "fig.update_layout(\n",
    "    title={\n",
    "        'text': \"CA Measures in Care of Acute and Chronic Conditions\",\n",
    "        'y':0.95,\n",
    "        'x':0.7,\n",
    "        'xanchor': 'center',\n",
    "        'yanchor': 'top'},\n",
    "    xaxis_title=\"State Rate\",\n",
    "    yaxis_title=\"Measure Names\",\n",
    " font=dict(\n",
    "        family=\"Arial\",\n",
    "        size=18,\n",
    "        color=\"Black\"\n",
    "    ))\n",
    "##fig.update_xaxes(range=[0, 80],tick0=0, dtick=10)\n",
    "fig.show()"
   ]
  },
  {
   "cell_type": "code",
   "execution_count": null,
   "metadata": {},
   "outputs": [],
   "source": []
  }
 ],
 "metadata": {
  "kernelspec": {
   "display_name": "Python 3",
   "language": "python",
   "name": "python3"
  },
  "language_info": {
   "codemirror_mode": {
    "name": "ipython",
    "version": 3
   },
   "file_extension": ".py",
   "mimetype": "text/x-python",
   "name": "python",
   "nbconvert_exporter": "python",
   "pygments_lexer": "ipython3",
   "version": "3.8.5"
  }
 },
 "nbformat": 4,
 "nbformat_minor": 4
}
